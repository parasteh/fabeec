{
  "nbformat": 4,
  "nbformat_minor": 0,
  "metadata": {
    "accelerator": "GPU",
    "colab": {
      "name": "Final Submission_FABEEC Emotion Classification.ipynb",
      "provenance": [],
      "collapsed_sections": []
    },
    "kernelspec": {
      "display_name": "Python 3",
      "name": "python3"
    },
    "widgets": {
      "application/vnd.jupyter.widget-state+json": {
        "5e6dadf097984d6db2a75862e8264894": {
          "model_module": "@jupyter-widgets/controls",
          "model_name": "HBoxModel",
          "state": {
            "_view_name": "HBoxView",
            "_dom_classes": [],
            "_model_name": "HBoxModel",
            "_view_module": "@jupyter-widgets/controls",
            "_model_module_version": "1.5.0",
            "_view_count": null,
            "_view_module_version": "1.5.0",
            "box_style": "",
            "layout": "IPY_MODEL_3dcd9891c30b4d60be52f72d70e05fd1",
            "_model_module": "@jupyter-widgets/controls",
            "children": [
              "IPY_MODEL_e4b9eade8a45484b97dfa5d9ac6dd365",
              "IPY_MODEL_842587a32fbc4ad291dcdf0039e4c5bf"
            ]
          }
        },
        "3dcd9891c30b4d60be52f72d70e05fd1": {
          "model_module": "@jupyter-widgets/base",
          "model_name": "LayoutModel",
          "state": {
            "_view_name": "LayoutView",
            "grid_template_rows": null,
            "right": null,
            "justify_content": null,
            "_view_module": "@jupyter-widgets/base",
            "overflow": null,
            "_model_module_version": "1.2.0",
            "_view_count": null,
            "flex_flow": null,
            "width": null,
            "min_width": null,
            "border": null,
            "align_items": null,
            "bottom": null,
            "_model_module": "@jupyter-widgets/base",
            "top": null,
            "grid_column": null,
            "overflow_y": null,
            "overflow_x": null,
            "grid_auto_flow": null,
            "grid_area": null,
            "grid_template_columns": null,
            "flex": null,
            "_model_name": "LayoutModel",
            "justify_items": null,
            "grid_row": null,
            "max_height": null,
            "align_content": null,
            "visibility": null,
            "align_self": null,
            "height": null,
            "min_height": null,
            "padding": null,
            "grid_auto_rows": null,
            "grid_gap": null,
            "max_width": null,
            "order": null,
            "_view_module_version": "1.2.0",
            "grid_template_areas": null,
            "object_position": null,
            "object_fit": null,
            "grid_auto_columns": null,
            "margin": null,
            "display": null,
            "left": null
          }
        },
        "e4b9eade8a45484b97dfa5d9ac6dd365": {
          "model_module": "@jupyter-widgets/controls",
          "model_name": "FloatProgressModel",
          "state": {
            "_view_name": "ProgressView",
            "style": "IPY_MODEL_aea711afcb2346bea7d11c40adbc2664",
            "_dom_classes": [],
            "description": "Downloading: 100%",
            "_model_name": "FloatProgressModel",
            "bar_style": "success",
            "max": 1666,
            "_view_module": "@jupyter-widgets/controls",
            "_model_module_version": "1.5.0",
            "value": 1666,
            "_view_count": null,
            "_view_module_version": "1.5.0",
            "orientation": "horizontal",
            "min": 0,
            "description_tooltip": null,
            "_model_module": "@jupyter-widgets/controls",
            "layout": "IPY_MODEL_1161ae625bbf470bb24bfdbe4ea8ebaa"
          }
        },
        "842587a32fbc4ad291dcdf0039e4c5bf": {
          "model_module": "@jupyter-widgets/controls",
          "model_name": "HTMLModel",
          "state": {
            "_view_name": "HTMLView",
            "style": "IPY_MODEL_56465b13199e4e19ae1410e94e927827",
            "_dom_classes": [],
            "description": "",
            "_model_name": "HTMLModel",
            "placeholder": "​",
            "_view_module": "@jupyter-widgets/controls",
            "_model_module_version": "1.5.0",
            "value": " 1.67k/1.67k [00:00&lt;00:00, 32.8kB/s]",
            "_view_count": null,
            "_view_module_version": "1.5.0",
            "description_tooltip": null,
            "_model_module": "@jupyter-widgets/controls",
            "layout": "IPY_MODEL_4db9ac872982413187e040f60e7be983"
          }
        },
        "aea711afcb2346bea7d11c40adbc2664": {
          "model_module": "@jupyter-widgets/controls",
          "model_name": "ProgressStyleModel",
          "state": {
            "_view_name": "StyleView",
            "_model_name": "ProgressStyleModel",
            "description_width": "initial",
            "_view_module": "@jupyter-widgets/base",
            "_model_module_version": "1.5.0",
            "_view_count": null,
            "_view_module_version": "1.2.0",
            "bar_color": null,
            "_model_module": "@jupyter-widgets/controls"
          }
        },
        "1161ae625bbf470bb24bfdbe4ea8ebaa": {
          "model_module": "@jupyter-widgets/base",
          "model_name": "LayoutModel",
          "state": {
            "_view_name": "LayoutView",
            "grid_template_rows": null,
            "right": null,
            "justify_content": null,
            "_view_module": "@jupyter-widgets/base",
            "overflow": null,
            "_model_module_version": "1.2.0",
            "_view_count": null,
            "flex_flow": null,
            "width": null,
            "min_width": null,
            "border": null,
            "align_items": null,
            "bottom": null,
            "_model_module": "@jupyter-widgets/base",
            "top": null,
            "grid_column": null,
            "overflow_y": null,
            "overflow_x": null,
            "grid_auto_flow": null,
            "grid_area": null,
            "grid_template_columns": null,
            "flex": null,
            "_model_name": "LayoutModel",
            "justify_items": null,
            "grid_row": null,
            "max_height": null,
            "align_content": null,
            "visibility": null,
            "align_self": null,
            "height": null,
            "min_height": null,
            "padding": null,
            "grid_auto_rows": null,
            "grid_gap": null,
            "max_width": null,
            "order": null,
            "_view_module_version": "1.2.0",
            "grid_template_areas": null,
            "object_position": null,
            "object_fit": null,
            "grid_auto_columns": null,
            "margin": null,
            "display": null,
            "left": null
          }
        },
        "56465b13199e4e19ae1410e94e927827": {
          "model_module": "@jupyter-widgets/controls",
          "model_name": "DescriptionStyleModel",
          "state": {
            "_view_name": "StyleView",
            "_model_name": "DescriptionStyleModel",
            "description_width": "",
            "_view_module": "@jupyter-widgets/base",
            "_model_module_version": "1.5.0",
            "_view_count": null,
            "_view_module_version": "1.2.0",
            "_model_module": "@jupyter-widgets/controls"
          }
        },
        "4db9ac872982413187e040f60e7be983": {
          "model_module": "@jupyter-widgets/base",
          "model_name": "LayoutModel",
          "state": {
            "_view_name": "LayoutView",
            "grid_template_rows": null,
            "right": null,
            "justify_content": null,
            "_view_module": "@jupyter-widgets/base",
            "overflow": null,
            "_model_module_version": "1.2.0",
            "_view_count": null,
            "flex_flow": null,
            "width": null,
            "min_width": null,
            "border": null,
            "align_items": null,
            "bottom": null,
            "_model_module": "@jupyter-widgets/base",
            "top": null,
            "grid_column": null,
            "overflow_y": null,
            "overflow_x": null,
            "grid_auto_flow": null,
            "grid_area": null,
            "grid_template_columns": null,
            "flex": null,
            "_model_name": "LayoutModel",
            "justify_items": null,
            "grid_row": null,
            "max_height": null,
            "align_content": null,
            "visibility": null,
            "align_self": null,
            "height": null,
            "min_height": null,
            "padding": null,
            "grid_auto_rows": null,
            "grid_gap": null,
            "max_width": null,
            "order": null,
            "_view_module_version": "1.2.0",
            "grid_template_areas": null,
            "object_position": null,
            "object_fit": null,
            "grid_auto_columns": null,
            "margin": null,
            "display": null,
            "left": null
          }
        },
        "e8da0c258ae34ac6a0207021a21d5d95": {
          "model_module": "@jupyter-widgets/controls",
          "model_name": "HBoxModel",
          "state": {
            "_view_name": "HBoxView",
            "_dom_classes": [],
            "_model_name": "HBoxModel",
            "_view_module": "@jupyter-widgets/controls",
            "_model_module_version": "1.5.0",
            "_view_count": null,
            "_view_module_version": "1.5.0",
            "box_style": "",
            "layout": "IPY_MODEL_14d61b9cf18b4d869b46a2cea41156da",
            "_model_module": "@jupyter-widgets/controls",
            "children": [
              "IPY_MODEL_019bb055e3fa4c678f4aa186800ae5c9",
              "IPY_MODEL_d5851fc3c2024e89b312b07b9bd7b567"
            ]
          }
        },
        "14d61b9cf18b4d869b46a2cea41156da": {
          "model_module": "@jupyter-widgets/base",
          "model_name": "LayoutModel",
          "state": {
            "_view_name": "LayoutView",
            "grid_template_rows": null,
            "right": null,
            "justify_content": null,
            "_view_module": "@jupyter-widgets/base",
            "overflow": null,
            "_model_module_version": "1.2.0",
            "_view_count": null,
            "flex_flow": null,
            "width": null,
            "min_width": null,
            "border": null,
            "align_items": null,
            "bottom": null,
            "_model_module": "@jupyter-widgets/base",
            "top": null,
            "grid_column": null,
            "overflow_y": null,
            "overflow_x": null,
            "grid_auto_flow": null,
            "grid_area": null,
            "grid_template_columns": null,
            "flex": null,
            "_model_name": "LayoutModel",
            "justify_items": null,
            "grid_row": null,
            "max_height": null,
            "align_content": null,
            "visibility": null,
            "align_self": null,
            "height": null,
            "min_height": null,
            "padding": null,
            "grid_auto_rows": null,
            "grid_gap": null,
            "max_width": null,
            "order": null,
            "_view_module_version": "1.2.0",
            "grid_template_areas": null,
            "object_position": null,
            "object_fit": null,
            "grid_auto_columns": null,
            "margin": null,
            "display": null,
            "left": null
          }
        },
        "019bb055e3fa4c678f4aa186800ae5c9": {
          "model_module": "@jupyter-widgets/controls",
          "model_name": "FloatProgressModel",
          "state": {
            "_view_name": "ProgressView",
            "style": "IPY_MODEL_dc2f6a4a89d94f2f836400d932aec299",
            "_dom_classes": [],
            "description": "Downloading: 100%",
            "_model_name": "FloatProgressModel",
            "bar_style": "success",
            "max": 433412096,
            "_view_module": "@jupyter-widgets/controls",
            "_model_module_version": "1.5.0",
            "value": 433412096,
            "_view_count": null,
            "_view_module_version": "1.5.0",
            "orientation": "horizontal",
            "min": 0,
            "description_tooltip": null,
            "_model_module": "@jupyter-widgets/controls",
            "layout": "IPY_MODEL_66cabb93b3304eab9c5d36c0ae33a73b"
          }
        },
        "d5851fc3c2024e89b312b07b9bd7b567": {
          "model_module": "@jupyter-widgets/controls",
          "model_name": "HTMLModel",
          "state": {
            "_view_name": "HTMLView",
            "style": "IPY_MODEL_169c81bf192e4c72a8718b06d56d8225",
            "_dom_classes": [],
            "description": "",
            "_model_name": "HTMLModel",
            "placeholder": "​",
            "_view_module": "@jupyter-widgets/controls",
            "_model_module_version": "1.5.0",
            "value": " 433M/433M [00:09&lt;00:00, 45.1MB/s]",
            "_view_count": null,
            "_view_module_version": "1.5.0",
            "description_tooltip": null,
            "_model_module": "@jupyter-widgets/controls",
            "layout": "IPY_MODEL_43f13188d438426892a63c3fbee48a8d"
          }
        },
        "dc2f6a4a89d94f2f836400d932aec299": {
          "model_module": "@jupyter-widgets/controls",
          "model_name": "ProgressStyleModel",
          "state": {
            "_view_name": "StyleView",
            "_model_name": "ProgressStyleModel",
            "description_width": "initial",
            "_view_module": "@jupyter-widgets/base",
            "_model_module_version": "1.5.0",
            "_view_count": null,
            "_view_module_version": "1.2.0",
            "bar_color": null,
            "_model_module": "@jupyter-widgets/controls"
          }
        },
        "66cabb93b3304eab9c5d36c0ae33a73b": {
          "model_module": "@jupyter-widgets/base",
          "model_name": "LayoutModel",
          "state": {
            "_view_name": "LayoutView",
            "grid_template_rows": null,
            "right": null,
            "justify_content": null,
            "_view_module": "@jupyter-widgets/base",
            "overflow": null,
            "_model_module_version": "1.2.0",
            "_view_count": null,
            "flex_flow": null,
            "width": null,
            "min_width": null,
            "border": null,
            "align_items": null,
            "bottom": null,
            "_model_module": "@jupyter-widgets/base",
            "top": null,
            "grid_column": null,
            "overflow_y": null,
            "overflow_x": null,
            "grid_auto_flow": null,
            "grid_area": null,
            "grid_template_columns": null,
            "flex": null,
            "_model_name": "LayoutModel",
            "justify_items": null,
            "grid_row": null,
            "max_height": null,
            "align_content": null,
            "visibility": null,
            "align_self": null,
            "height": null,
            "min_height": null,
            "padding": null,
            "grid_auto_rows": null,
            "grid_gap": null,
            "max_width": null,
            "order": null,
            "_view_module_version": "1.2.0",
            "grid_template_areas": null,
            "object_position": null,
            "object_fit": null,
            "grid_auto_columns": null,
            "margin": null,
            "display": null,
            "left": null
          }
        },
        "169c81bf192e4c72a8718b06d56d8225": {
          "model_module": "@jupyter-widgets/controls",
          "model_name": "DescriptionStyleModel",
          "state": {
            "_view_name": "StyleView",
            "_model_name": "DescriptionStyleModel",
            "description_width": "",
            "_view_module": "@jupyter-widgets/base",
            "_model_module_version": "1.5.0",
            "_view_count": null,
            "_view_module_version": "1.2.0",
            "_model_module": "@jupyter-widgets/controls"
          }
        },
        "43f13188d438426892a63c3fbee48a8d": {
          "model_module": "@jupyter-widgets/base",
          "model_name": "LayoutModel",
          "state": {
            "_view_name": "LayoutView",
            "grid_template_rows": null,
            "right": null,
            "justify_content": null,
            "_view_module": "@jupyter-widgets/base",
            "overflow": null,
            "_model_module_version": "1.2.0",
            "_view_count": null,
            "flex_flow": null,
            "width": null,
            "min_width": null,
            "border": null,
            "align_items": null,
            "bottom": null,
            "_model_module": "@jupyter-widgets/base",
            "top": null,
            "grid_column": null,
            "overflow_y": null,
            "overflow_x": null,
            "grid_auto_flow": null,
            "grid_area": null,
            "grid_template_columns": null,
            "flex": null,
            "_model_name": "LayoutModel",
            "justify_items": null,
            "grid_row": null,
            "max_height": null,
            "align_content": null,
            "visibility": null,
            "align_self": null,
            "height": null,
            "min_height": null,
            "padding": null,
            "grid_auto_rows": null,
            "grid_gap": null,
            "max_width": null,
            "order": null,
            "_view_module_version": "1.2.0",
            "grid_template_areas": null,
            "object_position": null,
            "object_fit": null,
            "grid_auto_columns": null,
            "margin": null,
            "display": null,
            "left": null
          }
        },
        "4ae9839c75ef44898406f2effff2c343": {
          "model_module": "@jupyter-widgets/controls",
          "model_name": "HBoxModel",
          "state": {
            "_view_name": "HBoxView",
            "_dom_classes": [],
            "_model_name": "HBoxModel",
            "_view_module": "@jupyter-widgets/controls",
            "_model_module_version": "1.5.0",
            "_view_count": null,
            "_view_module_version": "1.5.0",
            "box_style": "",
            "layout": "IPY_MODEL_38cb611e13954567a95a19a74dbf77ea",
            "_model_module": "@jupyter-widgets/controls",
            "children": [
              "IPY_MODEL_0e34640e5a904acf85a12951d54e30b2",
              "IPY_MODEL_dcf91fcb38b040b08ae153f961683d68"
            ]
          }
        },
        "38cb611e13954567a95a19a74dbf77ea": {
          "model_module": "@jupyter-widgets/base",
          "model_name": "LayoutModel",
          "state": {
            "_view_name": "LayoutView",
            "grid_template_rows": null,
            "right": null,
            "justify_content": null,
            "_view_module": "@jupyter-widgets/base",
            "overflow": null,
            "_model_module_version": "1.2.0",
            "_view_count": null,
            "flex_flow": null,
            "width": null,
            "min_width": null,
            "border": null,
            "align_items": null,
            "bottom": null,
            "_model_module": "@jupyter-widgets/base",
            "top": null,
            "grid_column": null,
            "overflow_y": null,
            "overflow_x": null,
            "grid_auto_flow": null,
            "grid_area": null,
            "grid_template_columns": null,
            "flex": null,
            "_model_name": "LayoutModel",
            "justify_items": null,
            "grid_row": null,
            "max_height": null,
            "align_content": null,
            "visibility": null,
            "align_self": null,
            "height": null,
            "min_height": null,
            "padding": null,
            "grid_auto_rows": null,
            "grid_gap": null,
            "max_width": null,
            "order": null,
            "_view_module_version": "1.2.0",
            "grid_template_areas": null,
            "object_position": null,
            "object_fit": null,
            "grid_auto_columns": null,
            "margin": null,
            "display": null,
            "left": null
          }
        },
        "0e34640e5a904acf85a12951d54e30b2": {
          "model_module": "@jupyter-widgets/controls",
          "model_name": "FloatProgressModel",
          "state": {
            "_view_name": "ProgressView",
            "style": "IPY_MODEL_ee08fdec9dc94ca39dfc7a67c68dc491",
            "_dom_classes": [],
            "description": "Downloading: 100%",
            "_model_name": "FloatProgressModel",
            "bar_style": "success",
            "max": 213448,
            "_view_module": "@jupyter-widgets/controls",
            "_model_module_version": "1.5.0",
            "value": 213448,
            "_view_count": null,
            "_view_module_version": "1.5.0",
            "orientation": "horizontal",
            "min": 0,
            "description_tooltip": null,
            "_model_module": "@jupyter-widgets/controls",
            "layout": "IPY_MODEL_8b0f14b3ba7b4bc19e9af3d663dc506d"
          }
        },
        "dcf91fcb38b040b08ae153f961683d68": {
          "model_module": "@jupyter-widgets/controls",
          "model_name": "HTMLModel",
          "state": {
            "_view_name": "HTMLView",
            "style": "IPY_MODEL_77c4d8b5ffac4efaad6891ef6af21d70",
            "_dom_classes": [],
            "description": "",
            "_model_name": "HTMLModel",
            "placeholder": "​",
            "_view_module": "@jupyter-widgets/controls",
            "_model_module_version": "1.5.0",
            "value": " 213k/213k [00:00&lt;00:00, 1.35MB/s]",
            "_view_count": null,
            "_view_module_version": "1.5.0",
            "description_tooltip": null,
            "_model_module": "@jupyter-widgets/controls",
            "layout": "IPY_MODEL_dc2eba2cbcc1449a8c7f10b8fb09dfae"
          }
        },
        "ee08fdec9dc94ca39dfc7a67c68dc491": {
          "model_module": "@jupyter-widgets/controls",
          "model_name": "ProgressStyleModel",
          "state": {
            "_view_name": "StyleView",
            "_model_name": "ProgressStyleModel",
            "description_width": "initial",
            "_view_module": "@jupyter-widgets/base",
            "_model_module_version": "1.5.0",
            "_view_count": null,
            "_view_module_version": "1.2.0",
            "bar_color": null,
            "_model_module": "@jupyter-widgets/controls"
          }
        },
        "8b0f14b3ba7b4bc19e9af3d663dc506d": {
          "model_module": "@jupyter-widgets/base",
          "model_name": "LayoutModel",
          "state": {
            "_view_name": "LayoutView",
            "grid_template_rows": null,
            "right": null,
            "justify_content": null,
            "_view_module": "@jupyter-widgets/base",
            "overflow": null,
            "_model_module_version": "1.2.0",
            "_view_count": null,
            "flex_flow": null,
            "width": null,
            "min_width": null,
            "border": null,
            "align_items": null,
            "bottom": null,
            "_model_module": "@jupyter-widgets/base",
            "top": null,
            "grid_column": null,
            "overflow_y": null,
            "overflow_x": null,
            "grid_auto_flow": null,
            "grid_area": null,
            "grid_template_columns": null,
            "flex": null,
            "_model_name": "LayoutModel",
            "justify_items": null,
            "grid_row": null,
            "max_height": null,
            "align_content": null,
            "visibility": null,
            "align_self": null,
            "height": null,
            "min_height": null,
            "padding": null,
            "grid_auto_rows": null,
            "grid_gap": null,
            "max_width": null,
            "order": null,
            "_view_module_version": "1.2.0",
            "grid_template_areas": null,
            "object_position": null,
            "object_fit": null,
            "grid_auto_columns": null,
            "margin": null,
            "display": null,
            "left": null
          }
        },
        "77c4d8b5ffac4efaad6891ef6af21d70": {
          "model_module": "@jupyter-widgets/controls",
          "model_name": "DescriptionStyleModel",
          "state": {
            "_view_name": "StyleView",
            "_model_name": "DescriptionStyleModel",
            "description_width": "",
            "_view_module": "@jupyter-widgets/base",
            "_model_module_version": "1.5.0",
            "_view_count": null,
            "_view_module_version": "1.2.0",
            "_model_module": "@jupyter-widgets/controls"
          }
        },
        "dc2eba2cbcc1449a8c7f10b8fb09dfae": {
          "model_module": "@jupyter-widgets/base",
          "model_name": "LayoutModel",
          "state": {
            "_view_name": "LayoutView",
            "grid_template_rows": null,
            "right": null,
            "justify_content": null,
            "_view_module": "@jupyter-widgets/base",
            "overflow": null,
            "_model_module_version": "1.2.0",
            "_view_count": null,
            "flex_flow": null,
            "width": null,
            "min_width": null,
            "border": null,
            "align_items": null,
            "bottom": null,
            "_model_module": "@jupyter-widgets/base",
            "top": null,
            "grid_column": null,
            "overflow_y": null,
            "overflow_x": null,
            "grid_auto_flow": null,
            "grid_area": null,
            "grid_template_columns": null,
            "flex": null,
            "_model_name": "LayoutModel",
            "justify_items": null,
            "grid_row": null,
            "max_height": null,
            "align_content": null,
            "visibility": null,
            "align_self": null,
            "height": null,
            "min_height": null,
            "padding": null,
            "grid_auto_rows": null,
            "grid_gap": null,
            "max_width": null,
            "order": null,
            "_view_module_version": "1.2.0",
            "grid_template_areas": null,
            "object_position": null,
            "object_fit": null,
            "grid_auto_columns": null,
            "margin": null,
            "display": null,
            "left": null
          }
        },
        "9e63adadde4149f3bc9b6264bdc3ca7e": {
          "model_module": "@jupyter-widgets/controls",
          "model_name": "HBoxModel",
          "state": {
            "_view_name": "HBoxView",
            "_dom_classes": [],
            "_model_name": "HBoxModel",
            "_view_module": "@jupyter-widgets/controls",
            "_model_module_version": "1.5.0",
            "_view_count": null,
            "_view_module_version": "1.5.0",
            "box_style": "",
            "layout": "IPY_MODEL_2c1a9adbe5684e20af76d032ed9f45e4",
            "_model_module": "@jupyter-widgets/controls",
            "children": [
              "IPY_MODEL_3dde1c74b81449169b48059051fdb0cc",
              "IPY_MODEL_8bee6af5733f4650b0f6110a3c25d0be"
            ]
          }
        },
        "2c1a9adbe5684e20af76d032ed9f45e4": {
          "model_module": "@jupyter-widgets/base",
          "model_name": "LayoutModel",
          "state": {
            "_view_name": "LayoutView",
            "grid_template_rows": null,
            "right": null,
            "justify_content": null,
            "_view_module": "@jupyter-widgets/base",
            "overflow": null,
            "_model_module_version": "1.2.0",
            "_view_count": null,
            "flex_flow": null,
            "width": null,
            "min_width": null,
            "border": null,
            "align_items": null,
            "bottom": null,
            "_model_module": "@jupyter-widgets/base",
            "top": null,
            "grid_column": null,
            "overflow_y": null,
            "overflow_x": null,
            "grid_auto_flow": null,
            "grid_area": null,
            "grid_template_columns": null,
            "flex": null,
            "_model_name": "LayoutModel",
            "justify_items": null,
            "grid_row": null,
            "max_height": null,
            "align_content": null,
            "visibility": null,
            "align_self": null,
            "height": null,
            "min_height": null,
            "padding": null,
            "grid_auto_rows": null,
            "grid_gap": null,
            "max_width": null,
            "order": null,
            "_view_module_version": "1.2.0",
            "grid_template_areas": null,
            "object_position": null,
            "object_fit": null,
            "grid_auto_columns": null,
            "margin": null,
            "display": null,
            "left": null
          }
        },
        "3dde1c74b81449169b48059051fdb0cc": {
          "model_module": "@jupyter-widgets/controls",
          "model_name": "FloatProgressModel",
          "state": {
            "_view_name": "ProgressView",
            "style": "IPY_MODEL_9d82279d8c784b0d99d198bee25a603b",
            "_dom_classes": [],
            "description": "Downloading: 100%",
            "_model_name": "FloatProgressModel",
            "bar_style": "success",
            "max": 182,
            "_view_module": "@jupyter-widgets/controls",
            "_model_module_version": "1.5.0",
            "value": 182,
            "_view_count": null,
            "_view_module_version": "1.5.0",
            "orientation": "horizontal",
            "min": 0,
            "description_tooltip": null,
            "_model_module": "@jupyter-widgets/controls",
            "layout": "IPY_MODEL_e25663d3c31b4126ae25dd212d6c18ef"
          }
        },
        "8bee6af5733f4650b0f6110a3c25d0be": {
          "model_module": "@jupyter-widgets/controls",
          "model_name": "HTMLModel",
          "state": {
            "_view_name": "HTMLView",
            "style": "IPY_MODEL_91d1e0e3aca74b97b68aeac5c7f5df0f",
            "_dom_classes": [],
            "description": "",
            "_model_name": "HTMLModel",
            "placeholder": "​",
            "_view_module": "@jupyter-widgets/controls",
            "_model_module_version": "1.5.0",
            "value": " 182/182 [00:00&lt;00:00, 692B/s]",
            "_view_count": null,
            "_view_module_version": "1.5.0",
            "description_tooltip": null,
            "_model_module": "@jupyter-widgets/controls",
            "layout": "IPY_MODEL_a6dc8ba0d8d044969824854ad9dcefb2"
          }
        },
        "9d82279d8c784b0d99d198bee25a603b": {
          "model_module": "@jupyter-widgets/controls",
          "model_name": "ProgressStyleModel",
          "state": {
            "_view_name": "StyleView",
            "_model_name": "ProgressStyleModel",
            "description_width": "initial",
            "_view_module": "@jupyter-widgets/base",
            "_model_module_version": "1.5.0",
            "_view_count": null,
            "_view_module_version": "1.2.0",
            "bar_color": null,
            "_model_module": "@jupyter-widgets/controls"
          }
        },
        "e25663d3c31b4126ae25dd212d6c18ef": {
          "model_module": "@jupyter-widgets/base",
          "model_name": "LayoutModel",
          "state": {
            "_view_name": "LayoutView",
            "grid_template_rows": null,
            "right": null,
            "justify_content": null,
            "_view_module": "@jupyter-widgets/base",
            "overflow": null,
            "_model_module_version": "1.2.0",
            "_view_count": null,
            "flex_flow": null,
            "width": null,
            "min_width": null,
            "border": null,
            "align_items": null,
            "bottom": null,
            "_model_module": "@jupyter-widgets/base",
            "top": null,
            "grid_column": null,
            "overflow_y": null,
            "overflow_x": null,
            "grid_auto_flow": null,
            "grid_area": null,
            "grid_template_columns": null,
            "flex": null,
            "_model_name": "LayoutModel",
            "justify_items": null,
            "grid_row": null,
            "max_height": null,
            "align_content": null,
            "visibility": null,
            "align_self": null,
            "height": null,
            "min_height": null,
            "padding": null,
            "grid_auto_rows": null,
            "grid_gap": null,
            "max_width": null,
            "order": null,
            "_view_module_version": "1.2.0",
            "grid_template_areas": null,
            "object_position": null,
            "object_fit": null,
            "grid_auto_columns": null,
            "margin": null,
            "display": null,
            "left": null
          }
        },
        "91d1e0e3aca74b97b68aeac5c7f5df0f": {
          "model_module": "@jupyter-widgets/controls",
          "model_name": "DescriptionStyleModel",
          "state": {
            "_view_name": "StyleView",
            "_model_name": "DescriptionStyleModel",
            "description_width": "",
            "_view_module": "@jupyter-widgets/base",
            "_model_module_version": "1.5.0",
            "_view_count": null,
            "_view_module_version": "1.2.0",
            "_model_module": "@jupyter-widgets/controls"
          }
        },
        "a6dc8ba0d8d044969824854ad9dcefb2": {
          "model_module": "@jupyter-widgets/base",
          "model_name": "LayoutModel",
          "state": {
            "_view_name": "LayoutView",
            "grid_template_rows": null,
            "right": null,
            "justify_content": null,
            "_view_module": "@jupyter-widgets/base",
            "overflow": null,
            "_model_module_version": "1.2.0",
            "_view_count": null,
            "flex_flow": null,
            "width": null,
            "min_width": null,
            "border": null,
            "align_items": null,
            "bottom": null,
            "_model_module": "@jupyter-widgets/base",
            "top": null,
            "grid_column": null,
            "overflow_y": null,
            "overflow_x": null,
            "grid_auto_flow": null,
            "grid_area": null,
            "grid_template_columns": null,
            "flex": null,
            "_model_name": "LayoutModel",
            "justify_items": null,
            "grid_row": null,
            "max_height": null,
            "align_content": null,
            "visibility": null,
            "align_self": null,
            "height": null,
            "min_height": null,
            "padding": null,
            "grid_auto_rows": null,
            "grid_gap": null,
            "max_width": null,
            "order": null,
            "_view_module_version": "1.2.0",
            "grid_template_areas": null,
            "object_position": null,
            "object_fit": null,
            "grid_auto_columns": null,
            "margin": null,
            "display": null,
            "left": null
          }
        },
        "db30c8b28a9a45aaab545bf66a67706c": {
          "model_module": "@jupyter-widgets/controls",
          "model_name": "HBoxModel",
          "state": {
            "_view_name": "HBoxView",
            "_dom_classes": [],
            "_model_name": "HBoxModel",
            "_view_module": "@jupyter-widgets/controls",
            "_model_module_version": "1.5.0",
            "_view_count": null,
            "_view_module_version": "1.5.0",
            "box_style": "",
            "layout": "IPY_MODEL_f65f015ee5a0416ba90461fa8a37ece7",
            "_model_module": "@jupyter-widgets/controls",
            "children": [
              "IPY_MODEL_c740a55d3054482ab212012f97b6b616",
              "IPY_MODEL_a6ad4a16c94942c3b2941da0ab1d61c2"
            ]
          }
        },
        "f65f015ee5a0416ba90461fa8a37ece7": {
          "model_module": "@jupyter-widgets/base",
          "model_name": "LayoutModel",
          "state": {
            "_view_name": "LayoutView",
            "grid_template_rows": null,
            "right": null,
            "justify_content": null,
            "_view_module": "@jupyter-widgets/base",
            "overflow": null,
            "_model_module_version": "1.2.0",
            "_view_count": null,
            "flex_flow": null,
            "width": null,
            "min_width": null,
            "border": null,
            "align_items": null,
            "bottom": null,
            "_model_module": "@jupyter-widgets/base",
            "top": null,
            "grid_column": null,
            "overflow_y": null,
            "overflow_x": null,
            "grid_auto_flow": null,
            "grid_area": null,
            "grid_template_columns": null,
            "flex": null,
            "_model_name": "LayoutModel",
            "justify_items": null,
            "grid_row": null,
            "max_height": null,
            "align_content": null,
            "visibility": null,
            "align_self": null,
            "height": null,
            "min_height": null,
            "padding": null,
            "grid_auto_rows": null,
            "grid_gap": null,
            "max_width": null,
            "order": null,
            "_view_module_version": "1.2.0",
            "grid_template_areas": null,
            "object_position": null,
            "object_fit": null,
            "grid_auto_columns": null,
            "margin": null,
            "display": null,
            "left": null
          }
        },
        "c740a55d3054482ab212012f97b6b616": {
          "model_module": "@jupyter-widgets/controls",
          "model_name": "FloatProgressModel",
          "state": {
            "_view_name": "ProgressView",
            "style": "IPY_MODEL_0140c902480f441d996213c4a5f11969",
            "_dom_classes": [],
            "description": "Downloading: 100%",
            "_model_name": "FloatProgressModel",
            "bar_style": "success",
            "max": 235,
            "_view_module": "@jupyter-widgets/controls",
            "_model_module_version": "1.5.0",
            "value": 235,
            "_view_count": null,
            "_view_module_version": "1.5.0",
            "orientation": "horizontal",
            "min": 0,
            "description_tooltip": null,
            "_model_module": "@jupyter-widgets/controls",
            "layout": "IPY_MODEL_dddfab53aa734ec3a2f26ff949296263"
          }
        },
        "a6ad4a16c94942c3b2941da0ab1d61c2": {
          "model_module": "@jupyter-widgets/controls",
          "model_name": "HTMLModel",
          "state": {
            "_view_name": "HTMLView",
            "style": "IPY_MODEL_31972b028e934686ac60d05a087e2a3e",
            "_dom_classes": [],
            "description": "",
            "_model_name": "HTMLModel",
            "placeholder": "​",
            "_view_module": "@jupyter-widgets/controls",
            "_model_module_version": "1.5.0",
            "value": " 235/235 [00:00&lt;00:00, 1.56kB/s]",
            "_view_count": null,
            "_view_module_version": "1.5.0",
            "description_tooltip": null,
            "_model_module": "@jupyter-widgets/controls",
            "layout": "IPY_MODEL_02802f2ce6274a8791939877f189015f"
          }
        },
        "0140c902480f441d996213c4a5f11969": {
          "model_module": "@jupyter-widgets/controls",
          "model_name": "ProgressStyleModel",
          "state": {
            "_view_name": "StyleView",
            "_model_name": "ProgressStyleModel",
            "description_width": "initial",
            "_view_module": "@jupyter-widgets/base",
            "_model_module_version": "1.5.0",
            "_view_count": null,
            "_view_module_version": "1.2.0",
            "bar_color": null,
            "_model_module": "@jupyter-widgets/controls"
          }
        },
        "dddfab53aa734ec3a2f26ff949296263": {
          "model_module": "@jupyter-widgets/base",
          "model_name": "LayoutModel",
          "state": {
            "_view_name": "LayoutView",
            "grid_template_rows": null,
            "right": null,
            "justify_content": null,
            "_view_module": "@jupyter-widgets/base",
            "overflow": null,
            "_model_module_version": "1.2.0",
            "_view_count": null,
            "flex_flow": null,
            "width": null,
            "min_width": null,
            "border": null,
            "align_items": null,
            "bottom": null,
            "_model_module": "@jupyter-widgets/base",
            "top": null,
            "grid_column": null,
            "overflow_y": null,
            "overflow_x": null,
            "grid_auto_flow": null,
            "grid_area": null,
            "grid_template_columns": null,
            "flex": null,
            "_model_name": "LayoutModel",
            "justify_items": null,
            "grid_row": null,
            "max_height": null,
            "align_content": null,
            "visibility": null,
            "align_self": null,
            "height": null,
            "min_height": null,
            "padding": null,
            "grid_auto_rows": null,
            "grid_gap": null,
            "max_width": null,
            "order": null,
            "_view_module_version": "1.2.0",
            "grid_template_areas": null,
            "object_position": null,
            "object_fit": null,
            "grid_auto_columns": null,
            "margin": null,
            "display": null,
            "left": null
          }
        },
        "31972b028e934686ac60d05a087e2a3e": {
          "model_module": "@jupyter-widgets/controls",
          "model_name": "DescriptionStyleModel",
          "state": {
            "_view_name": "StyleView",
            "_model_name": "DescriptionStyleModel",
            "description_width": "",
            "_view_module": "@jupyter-widgets/base",
            "_model_module_version": "1.5.0",
            "_view_count": null,
            "_view_module_version": "1.2.0",
            "_model_module": "@jupyter-widgets/controls"
          }
        },
        "02802f2ce6274a8791939877f189015f": {
          "model_module": "@jupyter-widgets/base",
          "model_name": "LayoutModel",
          "state": {
            "_view_name": "LayoutView",
            "grid_template_rows": null,
            "right": null,
            "justify_content": null,
            "_view_module": "@jupyter-widgets/base",
            "overflow": null,
            "_model_module_version": "1.2.0",
            "_view_count": null,
            "flex_flow": null,
            "width": null,
            "min_width": null,
            "border": null,
            "align_items": null,
            "bottom": null,
            "_model_module": "@jupyter-widgets/base",
            "top": null,
            "grid_column": null,
            "overflow_y": null,
            "overflow_x": null,
            "grid_auto_flow": null,
            "grid_area": null,
            "grid_template_columns": null,
            "flex": null,
            "_model_name": "LayoutModel",
            "justify_items": null,
            "grid_row": null,
            "max_height": null,
            "align_content": null,
            "visibility": null,
            "align_self": null,
            "height": null,
            "min_height": null,
            "padding": null,
            "grid_auto_rows": null,
            "grid_gap": null,
            "max_width": null,
            "order": null,
            "_view_module_version": "1.2.0",
            "grid_template_areas": null,
            "object_position": null,
            "object_fit": null,
            "grid_auto_columns": null,
            "margin": null,
            "display": null,
            "left": null
          }
        }
      }
    }
  },
  "cells": [
    {
      "cell_type": "markdown",
      "metadata": {
        "id": "o99BmrxyoIvM"
      },
      "source": [
        "The aim of this code is to classify emotion categories. It consists of some steps. We will explain the procedure step by step:\n"
      ]
    },
    {
      "cell_type": "markdown",
      "metadata": {
        "id": "-XclYdn9ojRH"
      },
      "source": [
        "#Installing Requirements\n"
      ]
    },
    {
      "cell_type": "code",
      "metadata": {
        "id": "AzGftc5g3HdO",
        "colab": {
          "base_uri": "https://localhost:8080/"
        },
        "outputId": "aae7779c-dd89-4e04-b18b-2cf10812f945"
      },
      "source": [
        "!pip install tensorflow\n",
        "!pip install -U sentence_transformers\n",
        "!pip install gensim==3.8.3\n",
        "!pip install keras"
      ],
      "execution_count": 1,
      "outputs": [
        {
          "output_type": "stream",
          "text": [
            "Requirement already satisfied: tensorflow in /usr/local/lib/python3.7/dist-packages (2.4.1)\n",
            "Requirement already satisfied: flatbuffers~=1.12.0 in /usr/local/lib/python3.7/dist-packages (from tensorflow) (1.12)\n",
            "Requirement already satisfied: opt-einsum~=3.3.0 in /usr/local/lib/python3.7/dist-packages (from tensorflow) (3.3.0)\n",
            "Requirement already satisfied: protobuf>=3.9.2 in /usr/local/lib/python3.7/dist-packages (from tensorflow) (3.12.4)\n",
            "Requirement already satisfied: absl-py~=0.10 in /usr/local/lib/python3.7/dist-packages (from tensorflow) (0.12.0)\n",
            "Requirement already satisfied: typing-extensions~=3.7.4 in /usr/local/lib/python3.7/dist-packages (from tensorflow) (3.7.4.3)\n",
            "Requirement already satisfied: astunparse~=1.6.3 in /usr/local/lib/python3.7/dist-packages (from tensorflow) (1.6.3)\n",
            "Requirement already satisfied: google-pasta~=0.2 in /usr/local/lib/python3.7/dist-packages (from tensorflow) (0.2.0)\n",
            "Requirement already satisfied: tensorboard~=2.4 in /usr/local/lib/python3.7/dist-packages (from tensorflow) (2.4.1)\n",
            "Requirement already satisfied: tensorflow-estimator<2.5.0,>=2.4.0 in /usr/local/lib/python3.7/dist-packages (from tensorflow) (2.4.0)\n",
            "Requirement already satisfied: six~=1.15.0 in /usr/local/lib/python3.7/dist-packages (from tensorflow) (1.15.0)\n",
            "Requirement already satisfied: gast==0.3.3 in /usr/local/lib/python3.7/dist-packages (from tensorflow) (0.3.3)\n",
            "Requirement already satisfied: wrapt~=1.12.1 in /usr/local/lib/python3.7/dist-packages (from tensorflow) (1.12.1)\n",
            "Requirement already satisfied: wheel~=0.35 in /usr/local/lib/python3.7/dist-packages (from tensorflow) (0.36.2)\n",
            "Requirement already satisfied: numpy~=1.19.2 in /usr/local/lib/python3.7/dist-packages (from tensorflow) (1.19.5)\n",
            "Requirement already satisfied: grpcio~=1.32.0 in /usr/local/lib/python3.7/dist-packages (from tensorflow) (1.32.0)\n",
            "Requirement already satisfied: h5py~=2.10.0 in /usr/local/lib/python3.7/dist-packages (from tensorflow) (2.10.0)\n",
            "Requirement already satisfied: termcolor~=1.1.0 in /usr/local/lib/python3.7/dist-packages (from tensorflow) (1.1.0)\n",
            "Requirement already satisfied: keras-preprocessing~=1.1.2 in /usr/local/lib/python3.7/dist-packages (from tensorflow) (1.1.2)\n",
            "Requirement already satisfied: setuptools in /usr/local/lib/python3.7/dist-packages (from protobuf>=3.9.2->tensorflow) (56.0.0)\n",
            "Requirement already satisfied: google-auth<2,>=1.6.3 in /usr/local/lib/python3.7/dist-packages (from tensorboard~=2.4->tensorflow) (1.28.1)\n",
            "Requirement already satisfied: tensorboard-plugin-wit>=1.6.0 in /usr/local/lib/python3.7/dist-packages (from tensorboard~=2.4->tensorflow) (1.8.0)\n",
            "Requirement already satisfied: werkzeug>=0.11.15 in /usr/local/lib/python3.7/dist-packages (from tensorboard~=2.4->tensorflow) (1.0.1)\n",
            "Requirement already satisfied: google-auth-oauthlib<0.5,>=0.4.1 in /usr/local/lib/python3.7/dist-packages (from tensorboard~=2.4->tensorflow) (0.4.4)\n",
            "Requirement already satisfied: requests<3,>=2.21.0 in /usr/local/lib/python3.7/dist-packages (from tensorboard~=2.4->tensorflow) (2.23.0)\n",
            "Requirement already satisfied: markdown>=2.6.8 in /usr/local/lib/python3.7/dist-packages (from tensorboard~=2.4->tensorflow) (3.3.4)\n",
            "Requirement already satisfied: cachetools<5.0,>=2.0.0 in /usr/local/lib/python3.7/dist-packages (from google-auth<2,>=1.6.3->tensorboard~=2.4->tensorflow) (4.2.1)\n",
            "Requirement already satisfied: rsa<5,>=3.1.4; python_version >= \"3.6\" in /usr/local/lib/python3.7/dist-packages (from google-auth<2,>=1.6.3->tensorboard~=2.4->tensorflow) (4.7.2)\n",
            "Requirement already satisfied: pyasn1-modules>=0.2.1 in /usr/local/lib/python3.7/dist-packages (from google-auth<2,>=1.6.3->tensorboard~=2.4->tensorflow) (0.2.8)\n",
            "Requirement already satisfied: requests-oauthlib>=0.7.0 in /usr/local/lib/python3.7/dist-packages (from google-auth-oauthlib<0.5,>=0.4.1->tensorboard~=2.4->tensorflow) (1.3.0)\n",
            "Requirement already satisfied: urllib3!=1.25.0,!=1.25.1,<1.26,>=1.21.1 in /usr/local/lib/python3.7/dist-packages (from requests<3,>=2.21.0->tensorboard~=2.4->tensorflow) (1.24.3)\n",
            "Requirement already satisfied: certifi>=2017.4.17 in /usr/local/lib/python3.7/dist-packages (from requests<3,>=2.21.0->tensorboard~=2.4->tensorflow) (2020.12.5)\n",
            "Requirement already satisfied: idna<3,>=2.5 in /usr/local/lib/python3.7/dist-packages (from requests<3,>=2.21.0->tensorboard~=2.4->tensorflow) (2.10)\n",
            "Requirement already satisfied: chardet<4,>=3.0.2 in /usr/local/lib/python3.7/dist-packages (from requests<3,>=2.21.0->tensorboard~=2.4->tensorflow) (3.0.4)\n",
            "Requirement already satisfied: importlib-metadata; python_version < \"3.8\" in /usr/local/lib/python3.7/dist-packages (from markdown>=2.6.8->tensorboard~=2.4->tensorflow) (3.10.1)\n",
            "Requirement already satisfied: pyasn1>=0.1.3 in /usr/local/lib/python3.7/dist-packages (from rsa<5,>=3.1.4; python_version >= \"3.6\"->google-auth<2,>=1.6.3->tensorboard~=2.4->tensorflow) (0.4.8)\n",
            "Requirement already satisfied: oauthlib>=3.0.0 in /usr/local/lib/python3.7/dist-packages (from requests-oauthlib>=0.7.0->google-auth-oauthlib<0.5,>=0.4.1->tensorboard~=2.4->tensorflow) (3.1.0)\n",
            "Requirement already satisfied: zipp>=0.5 in /usr/local/lib/python3.7/dist-packages (from importlib-metadata; python_version < \"3.8\"->markdown>=2.6.8->tensorboard~=2.4->tensorflow) (3.4.1)\n",
            "Collecting sentence_transformers\n",
            "\u001b[?25l  Downloading https://files.pythonhosted.org/packages/c4/87/49dc49e13ac107ce912c2f3f3fd92252c6d4221e88d1e6c16747044a11d8/sentence-transformers-1.1.0.tar.gz (78kB)\n",
            "\u001b[K     |████████████████████████████████| 81kB 6.7MB/s \n",
            "\u001b[?25hCollecting transformers<5.0.0,>=3.1.0\n",
            "\u001b[?25l  Downloading https://files.pythonhosted.org/packages/d8/b2/57495b5309f09fa501866e225c84532d1fd89536ea62406b2181933fb418/transformers-4.5.1-py3-none-any.whl (2.1MB)\n",
            "\u001b[K     |████████████████████████████████| 2.1MB 26.7MB/s \n",
            "\u001b[?25hRequirement already satisfied, skipping upgrade: tqdm in /usr/local/lib/python3.7/dist-packages (from sentence_transformers) (4.41.1)\n",
            "Requirement already satisfied, skipping upgrade: torch>=1.6.0 in /usr/local/lib/python3.7/dist-packages (from sentence_transformers) (1.8.1+cu101)\n",
            "Requirement already satisfied, skipping upgrade: numpy in /usr/local/lib/python3.7/dist-packages (from sentence_transformers) (1.19.5)\n",
            "Requirement already satisfied, skipping upgrade: scikit-learn in /usr/local/lib/python3.7/dist-packages (from sentence_transformers) (0.22.2.post1)\n",
            "Requirement already satisfied, skipping upgrade: scipy in /usr/local/lib/python3.7/dist-packages (from sentence_transformers) (1.4.1)\n",
            "Requirement already satisfied, skipping upgrade: nltk in /usr/local/lib/python3.7/dist-packages (from sentence_transformers) (3.2.5)\n",
            "Collecting sentencepiece\n",
            "\u001b[?25l  Downloading https://files.pythonhosted.org/packages/f5/99/e0808cb947ba10f575839c43e8fafc9cc44e4a7a2c8f79c60db48220a577/sentencepiece-0.1.95-cp37-cp37m-manylinux2014_x86_64.whl (1.2MB)\n",
            "\u001b[K     |████████████████████████████████| 1.2MB 45.4MB/s \n",
            "\u001b[?25hRequirement already satisfied, skipping upgrade: importlib-metadata; python_version < \"3.8\" in /usr/local/lib/python3.7/dist-packages (from transformers<5.0.0,>=3.1.0->sentence_transformers) (3.10.1)\n",
            "Collecting sacremoses\n",
            "\u001b[?25l  Downloading https://files.pythonhosted.org/packages/75/ee/67241dc87f266093c533a2d4d3d69438e57d7a90abb216fa076e7d475d4a/sacremoses-0.0.45-py3-none-any.whl (895kB)\n",
            "\u001b[K     |████████████████████████████████| 901kB 45.4MB/s \n",
            "\u001b[?25hRequirement already satisfied, skipping upgrade: regex!=2019.12.17 in /usr/local/lib/python3.7/dist-packages (from transformers<5.0.0,>=3.1.0->sentence_transformers) (2019.12.20)\n",
            "Requirement already satisfied, skipping upgrade: packaging in /usr/local/lib/python3.7/dist-packages (from transformers<5.0.0,>=3.1.0->sentence_transformers) (20.9)\n",
            "Requirement already satisfied, skipping upgrade: requests in /usr/local/lib/python3.7/dist-packages (from transformers<5.0.0,>=3.1.0->sentence_transformers) (2.23.0)\n",
            "Requirement already satisfied, skipping upgrade: filelock in /usr/local/lib/python3.7/dist-packages (from transformers<5.0.0,>=3.1.0->sentence_transformers) (3.0.12)\n",
            "Collecting tokenizers<0.11,>=0.10.1\n",
            "\u001b[?25l  Downloading https://files.pythonhosted.org/packages/ae/04/5b870f26a858552025a62f1649c20d29d2672c02ff3c3fb4c688ca46467a/tokenizers-0.10.2-cp37-cp37m-manylinux2010_x86_64.whl (3.3MB)\n",
            "\u001b[K     |████████████████████████████████| 3.3MB 48.9MB/s \n",
            "\u001b[?25hRequirement already satisfied, skipping upgrade: typing-extensions in /usr/local/lib/python3.7/dist-packages (from torch>=1.6.0->sentence_transformers) (3.7.4.3)\n",
            "Requirement already satisfied, skipping upgrade: joblib>=0.11 in /usr/local/lib/python3.7/dist-packages (from scikit-learn->sentence_transformers) (1.0.1)\n",
            "Requirement already satisfied, skipping upgrade: six in /usr/local/lib/python3.7/dist-packages (from nltk->sentence_transformers) (1.15.0)\n",
            "Requirement already satisfied, skipping upgrade: zipp>=0.5 in /usr/local/lib/python3.7/dist-packages (from importlib-metadata; python_version < \"3.8\"->transformers<5.0.0,>=3.1.0->sentence_transformers) (3.4.1)\n",
            "Requirement already satisfied, skipping upgrade: click in /usr/local/lib/python3.7/dist-packages (from sacremoses->transformers<5.0.0,>=3.1.0->sentence_transformers) (7.1.2)\n",
            "Requirement already satisfied, skipping upgrade: pyparsing>=2.0.2 in /usr/local/lib/python3.7/dist-packages (from packaging->transformers<5.0.0,>=3.1.0->sentence_transformers) (2.4.7)\n",
            "Requirement already satisfied, skipping upgrade: chardet<4,>=3.0.2 in /usr/local/lib/python3.7/dist-packages (from requests->transformers<5.0.0,>=3.1.0->sentence_transformers) (3.0.4)\n",
            "Requirement already satisfied, skipping upgrade: certifi>=2017.4.17 in /usr/local/lib/python3.7/dist-packages (from requests->transformers<5.0.0,>=3.1.0->sentence_transformers) (2020.12.5)\n",
            "Requirement already satisfied, skipping upgrade: idna<3,>=2.5 in /usr/local/lib/python3.7/dist-packages (from requests->transformers<5.0.0,>=3.1.0->sentence_transformers) (2.10)\n",
            "Requirement already satisfied, skipping upgrade: urllib3!=1.25.0,!=1.25.1,<1.26,>=1.21.1 in /usr/local/lib/python3.7/dist-packages (from requests->transformers<5.0.0,>=3.1.0->sentence_transformers) (1.24.3)\n",
            "Building wheels for collected packages: sentence-transformers\n",
            "  Building wheel for sentence-transformers (setup.py) ... \u001b[?25l\u001b[?25hdone\n",
            "  Created wheel for sentence-transformers: filename=sentence_transformers-1.1.0-cp37-none-any.whl size=119615 sha256=a5c7a209c4c830b606720de6350981604a6e7394316a6e269c8380a35b1b30e7\n",
            "  Stored in directory: /root/.cache/pip/wheels/84/cb/21/1066bff3027215c760ca14a198f698bca8fccb92e33e2327eb\n",
            "Successfully built sentence-transformers\n",
            "Installing collected packages: sacremoses, tokenizers, transformers, sentencepiece, sentence-transformers\n",
            "Successfully installed sacremoses-0.0.45 sentence-transformers-1.1.0 sentencepiece-0.1.95 tokenizers-0.10.2 transformers-4.5.1\n",
            "Collecting gensim==3.8.3\n",
            "\u001b[?25l  Downloading https://files.pythonhosted.org/packages/5c/4e/afe2315e08a38967f8a3036bbe7e38b428e9b7a90e823a83d0d49df1adf5/gensim-3.8.3-cp37-cp37m-manylinux1_x86_64.whl (24.2MB)\n",
            "\u001b[K     |████████████████████████████████| 24.2MB 2.4MB/s \n",
            "\u001b[?25hRequirement already satisfied: smart-open>=1.8.1 in /usr/local/lib/python3.7/dist-packages (from gensim==3.8.3) (5.0.0)\n",
            "Requirement already satisfied: scipy>=0.18.1 in /usr/local/lib/python3.7/dist-packages (from gensim==3.8.3) (1.4.1)\n",
            "Requirement already satisfied: numpy>=1.11.3 in /usr/local/lib/python3.7/dist-packages (from gensim==3.8.3) (1.19.5)\n",
            "Requirement already satisfied: six>=1.5.0 in /usr/local/lib/python3.7/dist-packages (from gensim==3.8.3) (1.15.0)\n",
            "Installing collected packages: gensim\n",
            "  Found existing installation: gensim 3.6.0\n",
            "    Uninstalling gensim-3.6.0:\n",
            "      Successfully uninstalled gensim-3.6.0\n",
            "Successfully installed gensim-3.8.3\n",
            "Requirement already satisfied: keras in /usr/local/lib/python3.7/dist-packages (2.4.3)\n",
            "Requirement already satisfied: numpy>=1.9.1 in /usr/local/lib/python3.7/dist-packages (from keras) (1.19.5)\n",
            "Requirement already satisfied: scipy>=0.14 in /usr/local/lib/python3.7/dist-packages (from keras) (1.4.1)\n",
            "Requirement already satisfied: h5py in /usr/local/lib/python3.7/dist-packages (from keras) (2.10.0)\n",
            "Requirement already satisfied: pyyaml in /usr/local/lib/python3.7/dist-packages (from keras) (3.13)\n",
            "Requirement already satisfied: six in /usr/local/lib/python3.7/dist-packages (from h5py->keras) (1.15.0)\n"
          ],
          "name": "stdout"
        }
      ]
    },
    {
      "cell_type": "markdown",
      "metadata": {
        "id": "J7EHezM7sLIA"
      },
      "source": [
        "#Import Necessary Libraries\n"
      ]
    },
    {
      "cell_type": "code",
      "metadata": {
        "id": "wzpJAbptHSyl"
      },
      "source": [
        "import pandas as pd\n",
        "import numpy as np\n",
        "from sentence_transformers import SentenceTransformer\n",
        "import gensim\n",
        "from gensim.utils import tokenize\n",
        "from gensim.models import FastText\n",
        "from gensim.models.phrases import Phrases, Phraser\n",
        "from gensim.parsing.preprocessing import remove_stopwords, strip_punctuation, strip_non_alphanum\n",
        "from sklearn.feature_extraction.text import TfidfVectorizer\n",
        "from sklearn.metrics.pairwise import cosine_similarity\n",
        "\n",
        "\n"
      ],
      "execution_count": 2,
      "outputs": []
    },
    {
      "cell_type": "markdown",
      "metadata": {
        "id": "Xbc3AVo1RzVB"
      },
      "source": [
        "# Set Constant Variables\n",
        "In this part we set some variables, we want to consider TF-IDF in our feature vector, so we calculated TF-IDF. We want to train FastText from scratch so we consider from_scratch = True. Finally, the length of FastText in our scenarios is considered 300, so we assigned 300 to FT_VECTOR_SIZE."
      ]
    },
    {
      "cell_type": "code",
      "metadata": {
        "id": "ZgFzywFgy6Qb"
      },
      "source": [
        "#Config Variables \n",
        "tfidf_based =  True\n",
        "from_scratch = True\n",
        "FT_VECTOR_SIZE = 300\n"
      ],
      "execution_count": 3,
      "outputs": []
    },
    {
      "cell_type": "markdown",
      "metadata": {
        "id": "ZcTcytMz6lTE"
      },
      "source": [
        "# Dataset Prepartion\n",
        "\n"
      ]
    },
    {
      "cell_type": "markdown",
      "metadata": {
        "id": "M-aIwlGCBvq6"
      },
      "source": [
        "## Downloading the dataset"
      ]
    },
    {
      "cell_type": "markdown",
      "metadata": {
        "id": "b_X9hoskG3xW"
      },
      "source": [
        "First download the goemotion data from Internet.\n"
      ]
    },
    {
      "cell_type": "code",
      "metadata": {
        "colab": {
          "base_uri": "https://localhost:8080/"
        },
        "id": "53oDcEEgPtOx",
        "outputId": "06bd0872-68fb-440e-a8d5-46b700008edf"
      },
      "source": [
        "!git init \n",
        "!git remote add -f origin https://github.com/google-research/google-research.git\n",
        "!git config core.sparseCheckout true\n",
        "!echo \"goemotions/data/\" >> .git/info/sparse-checkout\n",
        "!git pull origin master"
      ],
      "execution_count": 4,
      "outputs": [
        {
          "output_type": "stream",
          "text": [
            "Initialized empty Git repository in /content/.git/\n",
            "Updating origin\n",
            "remote: Enumerating objects: 32520, done.\u001b[K\n",
            "remote: Counting objects: 100% (8/8), done.\u001b[K\n",
            "remote: Compressing objects: 100% (7/7), done.\u001b[K\n",
            "remote: Total 32520 (delta 1), reused 8 (delta 1), pack-reused 32512\u001b[K\n",
            "Receiving objects: 100% (32520/32520), 263.31 MiB | 32.20 MiB/s, done.\n",
            "Resolving deltas: 100% (17478/17478), done.\n",
            "From https://github.com/google-research/google-research\n",
            " * [new branch]        dependabot/pip/dql_grasping/pillow-8.1.1 -> origin/dependabot/pip/dql_grasping/pillow-8.1.1\n",
            " * [new branch]        dependabot/pip/dreg_estimators/tensorflow-2.4.0 -> origin/dependabot/pip/dreg_estimators/tensorflow-2.4.0\n",
            " * [new branch]        master     -> origin/master\n",
            "From https://github.com/google-research/google-research\n",
            " * branch              master     -> FETCH_HEAD\n"
          ],
          "name": "stdout"
        }
      ]
    },
    {
      "cell_type": "markdown",
      "metadata": {
        "id": "YfZKi8FxHBj6"
      },
      "source": [
        "\n",
        "\n",
        "# Data Preprocess"
      ]
    },
    {
      "cell_type": "markdown",
      "metadata": {
        "id": "jn_SvlkqVrxz"
      },
      "source": [
        "### Loading the list of emotion labels"
      ]
    },
    {
      "cell_type": "code",
      "metadata": {
        "colab": {
          "base_uri": "https://localhost:8080/"
        },
        "id": "ZCqrdtupLVwT",
        "outputId": "37d603bd-ae16-4487-d5b6-248943153844"
      },
      "source": [
        "f = open('/content/goemotions/data/emotions.txt')\n",
        "lines  =f.readlines()\n",
        "emotions = {}\n",
        "for idx,label in enumerate(lines):\n",
        "  emotions[idx] = label.strip()\n",
        "emotions"
      ],
      "execution_count": 5,
      "outputs": [
        {
          "output_type": "execute_result",
          "data": {
            "text/plain": [
              "{0: 'admiration',\n",
              " 1: 'amusement',\n",
              " 2: 'anger',\n",
              " 3: 'annoyance',\n",
              " 4: 'approval',\n",
              " 5: 'caring',\n",
              " 6: 'confusion',\n",
              " 7: 'curiosity',\n",
              " 8: 'desire',\n",
              " 9: 'disappointment',\n",
              " 10: 'disapproval',\n",
              " 11: 'disgust',\n",
              " 12: 'embarrassment',\n",
              " 13: 'excitement',\n",
              " 14: 'fear',\n",
              " 15: 'gratitude',\n",
              " 16: 'grief',\n",
              " 17: 'joy',\n",
              " 18: 'love',\n",
              " 19: 'nervousness',\n",
              " 20: 'optimism',\n",
              " 21: 'pride',\n",
              " 22: 'realization',\n",
              " 23: 'relief',\n",
              " 24: 'remorse',\n",
              " 25: 'sadness',\n",
              " 26: 'surprise',\n",
              " 27: 'neutral'}"
            ]
          },
          "metadata": {
            "tags": []
          },
          "execution_count": 5
        }
      ]
    },
    {
      "cell_type": "markdown",
      "metadata": {
        "id": "MNkJQS4dT1MO"
      },
      "source": [
        "##ِData Display"
      ]
    },
    {
      "cell_type": "markdown",
      "metadata": {
        "id": "J-qN-MSLsYvf"
      },
      "source": [
        "First, we read the \"tsv\" files contatining train, dev and test datasets."
      ]
    },
    {
      "cell_type": "code",
      "metadata": {
        "id": "ANdRkxzpV56o"
      },
      "source": [
        "\n",
        "dfTrain = pd.read_csv('/content/goemotions/data/train.tsv', sep = '\\t', header=None, names = ['text' , 'label', 'rater'])\n",
        "dfDev = pd.read_csv('/content/goemotions/data/dev.tsv', sep = '\\t', header=None, names = ['text' , 'label', 'rater'])\n",
        "dfTest = pd.read_csv('/content/goemotions/data/test.tsv', sep = '\\t', header=None, names = ['text' , 'label', 'rater'])\n",
        "data = pd.concat([dfTrain,dfTest, dfDev], ignore_index=True)\n",
        "\n",
        "\n",
        "data.text = data.text.apply(lambda s: s.lower() )\n"
      ],
      "execution_count": 9,
      "outputs": []
    },
    {
      "cell_type": "markdown",
      "metadata": {
        "id": "S2tnoUhCsg87"
      },
      "source": [
        "##One-Hot Encoding\n",
        "As the labels are emotion categories, we converted this nominal type of labels to numerical using one-hot encoding\n"
      ]
    },
    {
      "cell_type": "code",
      "metadata": {
        "colab": {
          "base_uri": "https://localhost:8080/"
        },
        "id": "t12EnCVBxy1j",
        "outputId": "abb1fa82-758b-478e-e323-a840beca7a10"
      },
      "source": [
        "from sklearn.preprocessing import MultiLabelBinarizer\n",
        "mlb = MultiLabelBinarizer()\n",
        "x = mlb.fit_transform( [tuple(int(x) for x in i.split(',')) for i in data.label.to_list()])\n",
        "data['new_label'] = list(x)\n",
        "len(data.new_label[0])\n"
      ],
      "execution_count": 10,
      "outputs": [
        {
          "output_type": "execute_result",
          "data": {
            "text/plain": [
              "28"
            ]
          },
          "metadata": {
            "tags": []
          },
          "execution_count": 10
        }
      ]
    },
    {
      "cell_type": "markdown",
      "metadata": {
        "id": "Jo1GnviOtHG-"
      },
      "source": [
        "## Display Distribution of Data\n",
        "Using \"matplotlib\" we draw plot shows the distribution of number of labels amond dataset. Each column shows the frequency of label for a specific number of labels in Train Set."
      ]
    },
    {
      "cell_type": "code",
      "metadata": {
        "colab": {
          "base_uri": "https://localhost:8080/",
          "height": 530
        },
        "id": "1-ROaRD4OCbU",
        "outputId": "4bfdb377-5a8d-4230-bbc1-badc300b3233"
      },
      "source": [
        "import matplotlib.pyplot as plt\n",
        "#Number of labels\n",
        "a = np.array(data.new_label.to_list()).sum(axis = 1)\n",
        "(unique, counts) = np.unique(a, return_counts=True)\n",
        "frequencies = np.asarray((unique, counts)).T\n",
        "frequencies\n",
        "labelcount = [1, 2, 3, 4, 5]\n",
        "plt.figure(figsize=(15,8))\n",
        "plt.bar(labelcount, frequencies[:, 1], align='center')\n",
        "plt.title(\"Frequency of Labels in Train Set\", fontsize=24)\n",
        "plt.ylabel('Number of Labels', fontsize=18)\n",
        "plt.xlabel('Emotion Type ', fontsize=18)\n",
        "for i, v in enumerate(frequencies[:, 1]):\n",
        "    plt.text(i+1, i+v+200, str(v), color='black', fontweight='bold')\n",
        "# plt.xticks(emotionsInt, LABELS, rotation='vertical')\n",
        "plt.show()"
      ],
      "execution_count": 11,
      "outputs": [
        {
          "output_type": "display_data",
          "data": {
            "image/png": "[encoded data removed]",
            "text/plain": [
              "<Figure size 1080x576 with 1 Axes>"
            ]
          },
          "metadata": {
            "tags": [],
            "needs_background": "light"
          }
        }
      ]
    },
    {
      "cell_type": "markdown",
      "metadata": {
        "id": "fCGHXaeDvUEp"
      },
      "source": [
        "Now, we want to draw a plot to show the distribution of data based on emotion categories. In this figure, each column shows the number of samples belonged to each emotion category."
      ]
    },
    {
      "cell_type": "code",
      "metadata": {
        "id": "udA2Rv41XwBH"
      },
      "source": [
        "hist_test = data[43410:(5427 +43410)]['new_label'].sum(axis = 0)[:-1]\n",
        "hist_train = data[:43410]['new_label'].sum(axis = 0)[:-1]\n",
        "hist_dev = data[(5427 +43410):]['new_label'].sum(axis = 0)[:-1]"
      ],
      "execution_count": 12,
      "outputs": []
    },
    {
      "cell_type": "code",
      "metadata": {
        "colab": {
          "base_uri": "https://localhost:8080/",
          "height": 599
        },
        "id": "pAgx-qRL8PJJ",
        "outputId": "aa559b40-126b-4e2a-fb13-e3fb0bdc30c8"
      },
      "source": [
        "import seaborn as sns\n",
        "import matplotlib.pyplot as plt\n",
        "\n",
        "#with neutrual\n",
        "# plt.figure(figsize=(15,8))\n",
        "# plt.grid(zorder=0)\n",
        "# emotionsInt = [1,2,3, 4, 5, 6, 7, 8, 9, 10, 11, 12, 13, 14, 15, 16, 17, 18, 19 , 20, 21, 22,23, 24, 25, 26, 27, 28]\n",
        "# LABELS = list(emotions.values())\n",
        "# plt.bar(emotionsInt, data[:43410]['new_label'].sum(axis = 0), align='center')\n",
        "# plt.title(\"Frequency of Labels in Train Set\", fontsize=24)\n",
        "# plt.ylabel('Number of Labels', fontsize=18)\n",
        "# plt.xlabel('Emotion Type ', fontsize=18)\n",
        "# plt.xticks(emotionsInt, LABELS, rotation='vertical')\n",
        "# plt.show()\n",
        "\n",
        "#without neutrual\n",
        "# plt.figure(figsize=(15,8))\n",
        "# emotionsInt = [1,2,3, 4, 5, 6, 7, 8, 9, 10, 11, 12, 13, 14, 15, 16, 17, 18, 19 , 20, 21, 22,23, 24, 25, 26, 27]\n",
        "# LABELS = (list(emotions.values()))[:-1]\n",
        "# plt.bar(emotionsInt, (data[:43410]['new_label'].sum(axis = 0))[:-1], align='center', color = ['green'])\n",
        "# plt.title(\"Frequency of Labels in Train Set Without Neutral Class\", fontsize=24)\n",
        "# plt.ylabel('Number of Labels', fontsize=18)\n",
        "# plt.xlabel('Emotion Type ', fontsize=18)\n",
        "# plt.xticks(emotionsInt, LABELS, rotation='vertical')\n",
        "# plt.show()\n",
        "\n",
        "\n",
        "# plt.bar(emotionsInt, data[43410:(5427 +43410)]['new_label'].sum(axis = 0), align='center')\n",
        "# plt.title(\"Frequency of Labels in Test Set\", fontsize=24)\n",
        "# plt.ylabel('Number of Labels', fontsize=18)\n",
        "# plt.xlabel('Emotion Type ', fontsize=18)\n",
        "# plt.xticks(emotionsInt, LABELS, rotation='vertical')\n",
        "# plt.show()\n",
        "\n",
        "\n",
        "#without neutrual\n",
        "plt.figure(figsize=(15,8))\n",
        "emotionsInt = [1,2,3, 4, 5, 6, 7, 8, 9, 10, 11, 12, 13, 14, 15, 16, 17, 18, 19 , 20, 21, 22,23, 24, 25, 26, 27]\n",
        "LABELS = (list(emotions.values()))[:-1]\n",
        "plt.bar(emotionsInt, (data[43410:(5427 +43410)]['new_label'].sum(axis = 0))[:-1], align='center', color = 'green')\n",
        "# plt.bar(emotionsInt,[ hist_train, hist_test], align='center', color='green')\n",
        "plt.title(\"Frequency of Labels in Test Set Without Neutral Class\", fontsize=24)\n",
        "plt.ylabel('Number of Labels', fontsize=18)\n",
        "plt.xlabel('Emotion Type ', fontsize=18)\n",
        "plt.xticks(emotionsInt, LABELS, rotation='vertical')\n",
        "plt.show()"
      ],
      "execution_count": 13,
      "outputs": [
        {
          "output_type": "display_data",
          "data": {
            "image/png": "[encoded data removed]",
            "text/plain": [
              "<Figure size 1080x576 with 1 Axes>"
            ]
          },
          "metadata": {
            "tags": [],
            "needs_background": "light"
          }
        }
      ]
    },
    {
      "cell_type": "markdown",
      "metadata": {
        "id": "PBddb7QTxe8e"
      },
      "source": [
        "# Model Building\n",
        "\n"
      ]
    },
    {
      "cell_type": "markdown",
      "metadata": {
        "id": "y-Lxs1Lq0oR1"
      },
      "source": [
        "## Feature Selection\n",
        "\n"
      ]
    },
    {
      "cell_type": "markdown",
      "metadata": {
        "id": "vB6OQ82C0qkq"
      },
      "source": [
        "### Bert Feature\n",
        "First, we downloaded a pretrained Bert model."
      ]
    },
    {
      "cell_type": "code",
      "metadata": {
        "colab": {
          "base_uri": "https://localhost:8080/"
        },
        "id": "sgMAB0hV0PJc",
        "outputId": "d56ee990-70c8-4a43-f029-b597fa694a2f"
      },
      "source": [
        "from google.colab import drive\n",
        "drive.mount('/content/drive')"
      ],
      "execution_count": 14,
      "outputs": [
        {
          "output_type": "stream",
          "text": [
            "Mounted at /content/drive\n"
          ],
          "name": "stdout"
        }
      ]
    },
    {
      "cell_type": "code",
      "metadata": {
        "id": "AiV4gZDYugYl",
        "colab": {
          "base_uri": "https://localhost:8080/",
          "height": 1000,
          "referenced_widgets": [
            "5e6dadf097984d6db2a75862e8264894",
            "3dcd9891c30b4d60be52f72d70e05fd1",
            "e4b9eade8a45484b97dfa5d9ac6dd365",
            "842587a32fbc4ad291dcdf0039e4c5bf",
            "aea711afcb2346bea7d11c40adbc2664",
            "1161ae625bbf470bb24bfdbe4ea8ebaa",
            "56465b13199e4e19ae1410e94e927827",
            "4db9ac872982413187e040f60e7be983",
            "e8da0c258ae34ac6a0207021a21d5d95",
            "14d61b9cf18b4d869b46a2cea41156da",
            "019bb055e3fa4c678f4aa186800ae5c9",
            "d5851fc3c2024e89b312b07b9bd7b567",
            "dc2f6a4a89d94f2f836400d932aec299",
            "66cabb93b3304eab9c5d36c0ae33a73b",
            "169c81bf192e4c72a8718b06d56d8225",
            "43f13188d438426892a63c3fbee48a8d",
            "4ae9839c75ef44898406f2effff2c343",
            "38cb611e13954567a95a19a74dbf77ea",
            "0e34640e5a904acf85a12951d54e30b2",
            "dcf91fcb38b040b08ae153f961683d68",
            "ee08fdec9dc94ca39dfc7a67c68dc491",
            "8b0f14b3ba7b4bc19e9af3d663dc506d",
            "77c4d8b5ffac4efaad6891ef6af21d70",
            "dc2eba2cbcc1449a8c7f10b8fb09dfae",
            "9e63adadde4149f3bc9b6264bdc3ca7e",
            "2c1a9adbe5684e20af76d032ed9f45e4",
            "3dde1c74b81449169b48059051fdb0cc",
            "8bee6af5733f4650b0f6110a3c25d0be",
            "9d82279d8c784b0d99d198bee25a603b",
            "e25663d3c31b4126ae25dd212d6c18ef",
            "91d1e0e3aca74b97b68aeac5c7f5df0f",
            "a6dc8ba0d8d044969824854ad9dcefb2",
            "db30c8b28a9a45aaab545bf66a67706c",
            "f65f015ee5a0416ba90461fa8a37ece7",
            "c740a55d3054482ab212012f97b6b616",
            "a6ad4a16c94942c3b2941da0ab1d61c2",
            "0140c902480f441d996213c4a5f11969",
            "dddfab53aa734ec3a2f26ff949296263",
            "31972b028e934686ac60d05a087e2a3e",
            "02802f2ce6274a8791939877f189015f"
          ]
        },
        "outputId": "20f7cdd0-29fc-41a8-ae99-f58b84d96f5e"
      },
      "source": [
        "modelBert = SentenceTransformer('monologg/bert-base-cased-goemotions-original')\n",
        "modelBert.get_sentence_features"
      ],
      "execution_count": 15,
      "outputs": [
        {
          "output_type": "stream",
          "text": [
            "Exception when trying to download http://sbert.net/models/monologg/bert-base-cased-goemotions-original.zip. Response 404\n",
            "SentenceTransformer-Model http://sbert.net/models/monologg/bert-base-cased-goemotions-original.zip not found. Try to create it from scratch\n",
            "Try to create Transformer Model monologg/bert-base-cased-goemotions-original with mean pooling\n"
          ],
          "name": "stderr"
        },
        {
          "output_type": "display_data",
          "data": {
            "application/vnd.jupyter.widget-view+json": {
              "model_id": "5e6dadf097984d6db2a75862e8264894",
              "version_minor": 0,
              "version_major": 2
            },
            "text/plain": [
              "HBox(children=(FloatProgress(value=0.0, description='Downloading', max=1666.0, style=ProgressStyle(description…"
            ]
          },
          "metadata": {
            "tags": []
          }
        },
        {
          "output_type": "stream",
          "text": [
            "\n"
          ],
          "name": "stdout"
        },
        {
          "output_type": "display_data",
          "data": {
            "application/vnd.jupyter.widget-view+json": {
              "model_id": "e8da0c258ae34ac6a0207021a21d5d95",
              "version_minor": 0,
              "version_major": 2
            },
            "text/plain": [
              "HBox(children=(FloatProgress(value=0.0, description='Downloading', max=433412096.0, style=ProgressStyle(descri…"
            ]
          },
          "metadata": {
            "tags": []
          }
        },
        {
          "output_type": "stream",
          "text": [
            "\n"
          ],
          "name": "stdout"
        },
        {
          "output_type": "display_data",
          "data": {
            "application/vnd.jupyter.widget-view+json": {
              "model_id": "4ae9839c75ef44898406f2effff2c343",
              "version_minor": 0,
              "version_major": 2
            },
            "text/plain": [
              "HBox(children=(FloatProgress(value=0.0, description='Downloading', max=213448.0, style=ProgressStyle(descripti…"
            ]
          },
          "metadata": {
            "tags": []
          }
        },
        {
          "output_type": "stream",
          "text": [
            "\n"
          ],
          "name": "stdout"
        },
        {
          "output_type": "display_data",
          "data": {
            "application/vnd.jupyter.widget-view+json": {
              "model_id": "9e63adadde4149f3bc9b6264bdc3ca7e",
              "version_minor": 0,
              "version_major": 2
            },
            "text/plain": [
              "HBox(children=(FloatProgress(value=0.0, description='Downloading', max=182.0, style=ProgressStyle(description_…"
            ]
          },
          "metadata": {
            "tags": []
          }
        },
        {
          "output_type": "stream",
          "text": [
            "\n"
          ],
          "name": "stdout"
        },
        {
          "output_type": "display_data",
          "data": {
            "application/vnd.jupyter.widget-view+json": {
              "model_id": "db30c8b28a9a45aaab545bf66a67706c",
              "version_minor": 0,
              "version_major": 2
            },
            "text/plain": [
              "HBox(children=(FloatProgress(value=0.0, description='Downloading', max=235.0, style=ProgressStyle(description_…"
            ]
          },
          "metadata": {
            "tags": []
          }
        },
        {
          "output_type": "stream",
          "text": [
            "\n"
          ],
          "name": "stdout"
        },
        {
          "output_type": "execute_result",
          "data": {
            "text/plain": [
              "<bound method SentenceTransformer.get_sentence_features of SentenceTransformer(\n",
              "  (0): Transformer(\n",
              "    (auto_model): BertModel(\n",
              "      (embeddings): BertEmbeddings(\n",
              "        (word_embeddings): Embedding(28996, 768, padding_idx=0)\n",
              "        (position_embeddings): Embedding(512, 768)\n",
              "        (token_type_embeddings): Embedding(2, 768)\n",
              "        (LayerNorm): LayerNorm((768,), eps=1e-12, elementwise_affine=True)\n",
              "        (dropout): Dropout(p=0.1, inplace=False)\n",
              "      )\n",
              "      (encoder): BertEncoder(\n",
              "        (layer): ModuleList(\n",
              "          (0): BertLayer(\n",
              "            (attention): BertAttention(\n",
              "              (self): BertSelfAttention(\n",
              "                (query): Linear(in_features=768, out_features=768, bias=True)\n",
              "                (key): Linear(in_features=768, out_features=768, bias=True)\n",
              "                (value): Linear(in_features=768, out_features=768, bias=True)\n",
              "                (dropout): Dropout(p=0.1, inplace=False)\n",
              "              )\n",
              "              (output): BertSelfOutput(\n",
              "                (dense): Linear(in_features=768, out_features=768, bias=True)\n",
              "                (LayerNorm): LayerNorm((768,), eps=1e-12, elementwise_affine=True)\n",
              "                (dropout): Dropout(p=0.1, inplace=False)\n",
              "              )\n",
              "            )\n",
              "            (intermediate): BertIntermediate(\n",
              "              (dense): Linear(in_features=768, out_features=3072, bias=True)\n",
              "            )\n",
              "            (output): BertOutput(\n",
              "              (dense): Linear(in_features=3072, out_features=768, bias=True)\n",
              "              (LayerNorm): LayerNorm((768,), eps=1e-12, elementwise_affine=True)\n",
              "              (dropout): Dropout(p=0.1, inplace=False)\n",
              "            )\n",
              "          )\n",
              "          (1): BertLayer(\n",
              "            (attention): BertAttention(\n",
              "              (self): BertSelfAttention(\n",
              "                (query): Linear(in_features=768, out_features=768, bias=True)\n",
              "                (key): Linear(in_features=768, out_features=768, bias=True)\n",
              "                (value): Linear(in_features=768, out_features=768, bias=True)\n",
              "                (dropout): Dropout(p=0.1, inplace=False)\n",
              "              )\n",
              "              (output): BertSelfOutput(\n",
              "                (dense): Linear(in_features=768, out_features=768, bias=True)\n",
              "                (LayerNorm): LayerNorm((768,), eps=1e-12, elementwise_affine=True)\n",
              "                (dropout): Dropout(p=0.1, inplace=False)\n",
              "              )\n",
              "            )\n",
              "            (intermediate): BertIntermediate(\n",
              "              (dense): Linear(in_features=768, out_features=3072, bias=True)\n",
              "            )\n",
              "            (output): BertOutput(\n",
              "              (dense): Linear(in_features=3072, out_features=768, bias=True)\n",
              "              (LayerNorm): LayerNorm((768,), eps=1e-12, elementwise_affine=True)\n",
              "              (dropout): Dropout(p=0.1, inplace=False)\n",
              "            )\n",
              "          )\n",
              "          (2): BertLayer(\n",
              "            (attention): BertAttention(\n",
              "              (self): BertSelfAttention(\n",
              "                (query): Linear(in_features=768, out_features=768, bias=True)\n",
              "                (key): Linear(in_features=768, out_features=768, bias=True)\n",
              "                (value): Linear(in_features=768, out_features=768, bias=True)\n",
              "                (dropout): Dropout(p=0.1, inplace=False)\n",
              "              )\n",
              "              (output): BertSelfOutput(\n",
              "                (dense): Linear(in_features=768, out_features=768, bias=True)\n",
              "                (LayerNorm): LayerNorm((768,), eps=1e-12, elementwise_affine=True)\n",
              "                (dropout): Dropout(p=0.1, inplace=False)\n",
              "              )\n",
              "            )\n",
              "            (intermediate): BertIntermediate(\n",
              "              (dense): Linear(in_features=768, out_features=3072, bias=True)\n",
              "            )\n",
              "            (output): BertOutput(\n",
              "              (dense): Linear(in_features=3072, out_features=768, bias=True)\n",
              "              (LayerNorm): LayerNorm((768,), eps=1e-12, elementwise_affine=True)\n",
              "              (dropout): Dropout(p=0.1, inplace=False)\n",
              "            )\n",
              "          )\n",
              "          (3): BertLayer(\n",
              "            (attention): BertAttention(\n",
              "              (self): BertSelfAttention(\n",
              "                (query): Linear(in_features=768, out_features=768, bias=True)\n",
              "                (key): Linear(in_features=768, out_features=768, bias=True)\n",
              "                (value): Linear(in_features=768, out_features=768, bias=True)\n",
              "                (dropout): Dropout(p=0.1, inplace=False)\n",
              "              )\n",
              "              (output): BertSelfOutput(\n",
              "                (dense): Linear(in_features=768, out_features=768, bias=True)\n",
              "                (LayerNorm): LayerNorm((768,), eps=1e-12, elementwise_affine=True)\n",
              "                (dropout): Dropout(p=0.1, inplace=False)\n",
              "              )\n",
              "            )\n",
              "            (intermediate): BertIntermediate(\n",
              "              (dense): Linear(in_features=768, out_features=3072, bias=True)\n",
              "            )\n",
              "            (output): BertOutput(\n",
              "              (dense): Linear(in_features=3072, out_features=768, bias=True)\n",
              "              (LayerNorm): LayerNorm((768,), eps=1e-12, elementwise_affine=True)\n",
              "              (dropout): Dropout(p=0.1, inplace=False)\n",
              "            )\n",
              "          )\n",
              "          (4): BertLayer(\n",
              "            (attention): BertAttention(\n",
              "              (self): BertSelfAttention(\n",
              "                (query): Linear(in_features=768, out_features=768, bias=True)\n",
              "                (key): Linear(in_features=768, out_features=768, bias=True)\n",
              "                (value): Linear(in_features=768, out_features=768, bias=True)\n",
              "                (dropout): Dropout(p=0.1, inplace=False)\n",
              "              )\n",
              "              (output): BertSelfOutput(\n",
              "                (dense): Linear(in_features=768, out_features=768, bias=True)\n",
              "                (LayerNorm): LayerNorm((768,), eps=1e-12, elementwise_affine=True)\n",
              "                (dropout): Dropout(p=0.1, inplace=False)\n",
              "              )\n",
              "            )\n",
              "            (intermediate): BertIntermediate(\n",
              "              (dense): Linear(in_features=768, out_features=3072, bias=True)\n",
              "            )\n",
              "            (output): BertOutput(\n",
              "              (dense): Linear(in_features=3072, out_features=768, bias=True)\n",
              "              (LayerNorm): LayerNorm((768,), eps=1e-12, elementwise_affine=True)\n",
              "              (dropout): Dropout(p=0.1, inplace=False)\n",
              "            )\n",
              "          )\n",
              "          (5): BertLayer(\n",
              "            (attention): BertAttention(\n",
              "              (self): BertSelfAttention(\n",
              "                (query): Linear(in_features=768, out_features=768, bias=True)\n",
              "                (key): Linear(in_features=768, out_features=768, bias=True)\n",
              "                (value): Linear(in_features=768, out_features=768, bias=True)\n",
              "                (dropout): Dropout(p=0.1, inplace=False)\n",
              "              )\n",
              "              (output): BertSelfOutput(\n",
              "                (dense): Linear(in_features=768, out_features=768, bias=True)\n",
              "                (LayerNorm): LayerNorm((768,), eps=1e-12, elementwise_affine=True)\n",
              "                (dropout): Dropout(p=0.1, inplace=False)\n",
              "              )\n",
              "            )\n",
              "            (intermediate): BertIntermediate(\n",
              "              (dense): Linear(in_features=768, out_features=3072, bias=True)\n",
              "            )\n",
              "            (output): BertOutput(\n",
              "              (dense): Linear(in_features=3072, out_features=768, bias=True)\n",
              "              (LayerNorm): LayerNorm((768,), eps=1e-12, elementwise_affine=True)\n",
              "              (dropout): Dropout(p=0.1, inplace=False)\n",
              "            )\n",
              "          )\n",
              "          (6): BertLayer(\n",
              "            (attention): BertAttention(\n",
              "              (self): BertSelfAttention(\n",
              "                (query): Linear(in_features=768, out_features=768, bias=True)\n",
              "                (key): Linear(in_features=768, out_features=768, bias=True)\n",
              "                (value): Linear(in_features=768, out_features=768, bias=True)\n",
              "                (dropout): Dropout(p=0.1, inplace=False)\n",
              "              )\n",
              "              (output): BertSelfOutput(\n",
              "                (dense): Linear(in_features=768, out_features=768, bias=True)\n",
              "                (LayerNorm): LayerNorm((768,), eps=1e-12, elementwise_affine=True)\n",
              "                (dropout): Dropout(p=0.1, inplace=False)\n",
              "              )\n",
              "            )\n",
              "            (intermediate): BertIntermediate(\n",
              "              (dense): Linear(in_features=768, out_features=3072, bias=True)\n",
              "            )\n",
              "            (output): BertOutput(\n",
              "              (dense): Linear(in_features=3072, out_features=768, bias=True)\n",
              "              (LayerNorm): LayerNorm((768,), eps=1e-12, elementwise_affine=True)\n",
              "              (dropout): Dropout(p=0.1, inplace=False)\n",
              "            )\n",
              "          )\n",
              "          (7): BertLayer(\n",
              "            (attention): BertAttention(\n",
              "              (self): BertSelfAttention(\n",
              "                (query): Linear(in_features=768, out_features=768, bias=True)\n",
              "                (key): Linear(in_features=768, out_features=768, bias=True)\n",
              "                (value): Linear(in_features=768, out_features=768, bias=True)\n",
              "                (dropout): Dropout(p=0.1, inplace=False)\n",
              "              )\n",
              "              (output): BertSelfOutput(\n",
              "                (dense): Linear(in_features=768, out_features=768, bias=True)\n",
              "                (LayerNorm): LayerNorm((768,), eps=1e-12, elementwise_affine=True)\n",
              "                (dropout): Dropout(p=0.1, inplace=False)\n",
              "              )\n",
              "            )\n",
              "            (intermediate): BertIntermediate(\n",
              "              (dense): Linear(in_features=768, out_features=3072, bias=True)\n",
              "            )\n",
              "            (output): BertOutput(\n",
              "              (dense): Linear(in_features=3072, out_features=768, bias=True)\n",
              "              (LayerNorm): LayerNorm((768,), eps=1e-12, elementwise_affine=True)\n",
              "              (dropout): Dropout(p=0.1, inplace=False)\n",
              "            )\n",
              "          )\n",
              "          (8): BertLayer(\n",
              "            (attention): BertAttention(\n",
              "              (self): BertSelfAttention(\n",
              "                (query): Linear(in_features=768, out_features=768, bias=True)\n",
              "                (key): Linear(in_features=768, out_features=768, bias=True)\n",
              "                (value): Linear(in_features=768, out_features=768, bias=True)\n",
              "                (dropout): Dropout(p=0.1, inplace=False)\n",
              "              )\n",
              "              (output): BertSelfOutput(\n",
              "                (dense): Linear(in_features=768, out_features=768, bias=True)\n",
              "                (LayerNorm): LayerNorm((768,), eps=1e-12, elementwise_affine=True)\n",
              "                (dropout): Dropout(p=0.1, inplace=False)\n",
              "              )\n",
              "            )\n",
              "            (intermediate): BertIntermediate(\n",
              "              (dense): Linear(in_features=768, out_features=3072, bias=True)\n",
              "            )\n",
              "            (output): BertOutput(\n",
              "              (dense): Linear(in_features=3072, out_features=768, bias=True)\n",
              "              (LayerNorm): LayerNorm((768,), eps=1e-12, elementwise_affine=True)\n",
              "              (dropout): Dropout(p=0.1, inplace=False)\n",
              "            )\n",
              "          )\n",
              "          (9): BertLayer(\n",
              "            (attention): BertAttention(\n",
              "              (self): BertSelfAttention(\n",
              "                (query): Linear(in_features=768, out_features=768, bias=True)\n",
              "                (key): Linear(in_features=768, out_features=768, bias=True)\n",
              "                (value): Linear(in_features=768, out_features=768, bias=True)\n",
              "                (dropout): Dropout(p=0.1, inplace=False)\n",
              "              )\n",
              "              (output): BertSelfOutput(\n",
              "                (dense): Linear(in_features=768, out_features=768, bias=True)\n",
              "                (LayerNorm): LayerNorm((768,), eps=1e-12, elementwise_affine=True)\n",
              "                (dropout): Dropout(p=0.1, inplace=False)\n",
              "              )\n",
              "            )\n",
              "            (intermediate): BertIntermediate(\n",
              "              (dense): Linear(in_features=768, out_features=3072, bias=True)\n",
              "            )\n",
              "            (output): BertOutput(\n",
              "              (dense): Linear(in_features=3072, out_features=768, bias=True)\n",
              "              (LayerNorm): LayerNorm((768,), eps=1e-12, elementwise_affine=True)\n",
              "              (dropout): Dropout(p=0.1, inplace=False)\n",
              "            )\n",
              "          )\n",
              "          (10): BertLayer(\n",
              "            (attention): BertAttention(\n",
              "              (self): BertSelfAttention(\n",
              "                (query): Linear(in_features=768, out_features=768, bias=True)\n",
              "                (key): Linear(in_features=768, out_features=768, bias=True)\n",
              "                (value): Linear(in_features=768, out_features=768, bias=True)\n",
              "                (dropout): Dropout(p=0.1, inplace=False)\n",
              "              )\n",
              "              (output): BertSelfOutput(\n",
              "                (dense): Linear(in_features=768, out_features=768, bias=True)\n",
              "                (LayerNorm): LayerNorm((768,), eps=1e-12, elementwise_affine=True)\n",
              "                (dropout): Dropout(p=0.1, inplace=False)\n",
              "              )\n",
              "            )\n",
              "            (intermediate): BertIntermediate(\n",
              "              (dense): Linear(in_features=768, out_features=3072, bias=True)\n",
              "            )\n",
              "            (output): BertOutput(\n",
              "              (dense): Linear(in_features=3072, out_features=768, bias=True)\n",
              "              (LayerNorm): LayerNorm((768,), eps=1e-12, elementwise_affine=True)\n",
              "              (dropout): Dropout(p=0.1, inplace=False)\n",
              "            )\n",
              "          )\n",
              "          (11): BertLayer(\n",
              "            (attention): BertAttention(\n",
              "              (self): BertSelfAttention(\n",
              "                (query): Linear(in_features=768, out_features=768, bias=True)\n",
              "                (key): Linear(in_features=768, out_features=768, bias=True)\n",
              "                (value): Linear(in_features=768, out_features=768, bias=True)\n",
              "                (dropout): Dropout(p=0.1, inplace=False)\n",
              "              )\n",
              "              (output): BertSelfOutput(\n",
              "                (dense): Linear(in_features=768, out_features=768, bias=True)\n",
              "                (LayerNorm): LayerNorm((768,), eps=1e-12, elementwise_affine=True)\n",
              "                (dropout): Dropout(p=0.1, inplace=False)\n",
              "              )\n",
              "            )\n",
              "            (intermediate): BertIntermediate(\n",
              "              (dense): Linear(in_features=768, out_features=3072, bias=True)\n",
              "            )\n",
              "            (output): BertOutput(\n",
              "              (dense): Linear(in_features=3072, out_features=768, bias=True)\n",
              "              (LayerNorm): LayerNorm((768,), eps=1e-12, elementwise_affine=True)\n",
              "              (dropout): Dropout(p=0.1, inplace=False)\n",
              "            )\n",
              "          )\n",
              "        )\n",
              "      )\n",
              "      (pooler): BertPooler(\n",
              "        (dense): Linear(in_features=768, out_features=768, bias=True)\n",
              "        (activation): Tanh()\n",
              "      )\n",
              "    )\n",
              "  )\n",
              "  (1): Pooling()\n",
              ")>"
            ]
          },
          "metadata": {
            "tags": []
          },
          "execution_count": 15
        }
      ]
    },
    {
      "cell_type": "code",
      "metadata": {
        "id": "5ZxT64tBuOvT"
      },
      "source": [
        "def bert_embedding(sentences):\n",
        "   \n",
        "  sentence_embeddings = modelBert.encode(sentences)\n",
        "  return sentence_embeddings"
      ],
      "execution_count": 16,
      "outputs": []
    },
    {
      "cell_type": "code",
      "metadata": {
        "id": "A_P-9YHo4zYw"
      },
      "source": [
        "bert_features = bert_embedding(data.text.to_list())"
      ],
      "execution_count": null,
      "outputs": []
    },
    {
      "cell_type": "markdown",
      "metadata": {
        "id": "il2PsPrrpcsK"
      },
      "source": [
        "###Training FastText Model and TFIDF model with GoEmotion Dataset"
      ]
    },
    {
      "cell_type": "code",
      "metadata": {
        "id": "J8bG0BFDuueR"
      },
      "source": [
        "def fasttext_model_train(data, from_scratch):\n",
        "  # Preprocessing like stopword removal @TODO\n",
        "  ge_sentences = [ list(tokenize(s)) for s in data['text'].to_list()]\n",
        "  if from_scratch:\n",
        "    model = FastText(bucket= 1000000, window=3, min_count=1, size=300)\n",
        "    model.build_vocab(sentences=ge_sentences)\n",
        "    model.train(sentences=ge_sentences, total_examples=len(ge_sentences), epochs=10)\n",
        "  else:\n",
        "    model = FastText.load_fasttext_format('content/cc.en.300')\n",
        "    model.build_vocab(ge_sentences, update=True)\n",
        "    model.train(sentences=ge_sentences, total_examples = len(sent), epochs=5)\n",
        "  return model\n",
        "  #now the model has been trained, there are two ways to get the sentence vectors, \n",
        "  # first, simple averaging over the word vectors, like numpy.mean(...)\n",
        "  # second, using the tfidf to applying a weighted average method,\n",
        "  # There is an option using the original fastext library in python where the sentence vecotr is available but can be formolated here simply by adding two more functions \n",
        "\n"
      ],
      "execution_count": null,
      "outputs": []
    },
    {
      "cell_type": "code",
      "metadata": {
        "id": "7q1k0UX466z7"
      },
      "source": [
        "#TFIDF\n",
        "from gensim.models import TfidfModel\n",
        "from gensim.corpora import Dictionary\n",
        "def gensim_tfidf_model_train(data):\n",
        "   data = [ list(tokenize(s)) for s in data['text'].to_list()]\n",
        "   print(len(data))\n",
        "   dct = Dictionary(data)\n",
        "   print(data[0:10])\n",
        "   corpus = [dct.doc2bow(line) for line in data] # convert corpus to BoW format\n",
        "   model = TfidfModel(corpus)\n",
        "   return dct, model"
      ],
      "execution_count": null,
      "outputs": []
    },
    {
      "cell_type": "code",
      "metadata": {
        "id": "uaR2LiODMYC_"
      },
      "source": [
        "#TF-IDF Using SK_learn # needs a list of lists for words and docs along with a fasttext 'model'\n",
        "def tfidf_model_train(data):\n",
        "  tf_idf_vect = TfidfVectorizer(stop_words=None)\n",
        "  tf_idf_vect.fit(data)\n",
        "  final_tf_idf = tf_idf_vect.transform(data)\n",
        "  tfidf_feat = tf_idf_vect.get_feature_names()\n",
        "  return tfidf_feat, final_tf_idf\n",
        "\n"
      ],
      "execution_count": null,
      "outputs": []
    },
    {
      "cell_type": "code",
      "metadata": {
        "id": "XR82tPvC3GM5"
      },
      "source": [
        "fastText_model = fasttext_model_train(data, from_scratch)  # training fastext\n",
        "dictionary, tfidf_model = tfidf_model_train(data[\"text\"].to_list())\n"
      ],
      "execution_count": null,
      "outputs": []
    },
    {
      "cell_type": "code",
      "metadata": {
        "colab": {
          "base_uri": "https://localhost:8080/"
        },
        "id": "asPRZT7vBYTt",
        "outputId": "63574f6b-23cb-4c18-943e-86f7cbec43a0"
      },
      "source": [
        "tfidf_model.getrow(2)"
      ],
      "execution_count": null,
      "outputs": [
        {
          "output_type": "execute_result",
          "data": {
            "text/plain": [
              "<1x29512 sparse matrix of type '<class 'numpy.float64'>'\n",
              "\twith 6 stored elements in Compressed Sparse Row format>"
            ]
          },
          "metadata": {
            "tags": []
          },
          "execution_count": 39
        }
      ]
    },
    {
      "cell_type": "code",
      "metadata": {
        "id": "ulVadiEWxjQw"
      },
      "source": [
        "# Sum( tfidf[word] * wvector) / sum(tfidf(words))\n",
        "#@TODO maybe later develop the BM25 alg. \n",
        "def get_sentence_vector(row, sent_tokens, dictionary, tfidf_model, ft_model, tfidf_based= False):\n",
        "  if not tfidf_based:\n",
        "    word_vectors = []\n",
        "    for  token in sent_tokens:\n",
        "        w_vector = ft_model.wv[token]\n",
        "        word_vectors.append(w_vector)\n",
        "    return np.mean(word_vectors, axis=0)\n",
        "  else:\n",
        "    vec_sum = np.zeros(FT_VECTOR_SIZE)\n",
        "    weight= 0;\n",
        "    for token in sent_tokens:\n",
        "      # print(token)\n",
        "      try :\n",
        "        index = dictionary.index(token)\n",
        "      except:\n",
        "        index = -1\n",
        "      if index != -1:\n",
        "        w_vector = ft_model.wv[token]\n",
        "        # print(\"Vecotr \",w_vector)\n",
        "        tfidf_score =  tfidf_model[row, index ]\n",
        "        # print(tfidf_score)\n",
        "        vec_sum +=  (tfidf_score * w_vector )\n",
        "        weight += tfidf_score\n",
        "    return vec_sum / weight"
      ],
      "execution_count": null,
      "outputs": []
    },
    {
      "cell_type": "code",
      "metadata": {
        "id": "PLFFLQPausx3"
      },
      "source": [
        "from tqdm import tqdm\n",
        "# Fasttext word embedding \n",
        "def fasttext_embedding(model, data, dictionary, tfidf_model):\n",
        "  sentence_vectors = []\n",
        "   \n",
        "  row = 0;\n",
        "  for sentence in tqdm(data,position=0, leave=True):\n",
        "    sent_tokens =  tokenize(sentence.lower())\n",
        "    sentence_vectors.append(get_sentence_vector(row,sent_tokens, dictionary, tfidf_model, model, tfidf_based))\n",
        "    row +=1\n",
        "    # print(sentence_vectors)\n",
        "  return sentence_vectors\n"
      ],
      "execution_count": null,
      "outputs": []
    },
    {
      "cell_type": "code",
      "metadata": {
        "colab": {
          "base_uri": "https://localhost:8080/"
        },
        "id": "lrS67k_oKh7s",
        "outputId": "c64ac403-ebb0-4652-a1bb-b519a0427244"
      },
      "source": [
        "fatf_feature = fasttext_embedding(fastText_model, data.text.to_list(), dictionary, tfidf_model)\n"
      ],
      "execution_count": null,
      "outputs": [
        {
          "output_type": "stream",
          "text": [
            "  4%|▍         | 2305/54263 [00:14<05:17, 163.61it/s]/usr/local/lib/python3.7/dist-packages/ipykernel_launcher.py:26: RuntimeWarning: invalid value encountered in true_divide\n",
            " 93%|█████████▎| 50272/54263 [05:15<00:28, 141.75it/s]"
          ],
          "name": "stderr"
        }
      ]
    },
    {
      "cell_type": "markdown",
      "metadata": {
        "id": "n6DHQApe54BY"
      },
      "source": [
        "##Calculate FABEEC feature \n",
        "In this part we calculated FABEEC feature and added it beside to Bert and FastText + TFIDF as columns to GoEmotion dataframes."
      ]
    },
    {
      "cell_type": "code",
      "metadata": {
        "id": "YArPbNs9X00v"
      },
      "source": [
        "\n",
        "fabeec = []\n",
        "for i in range(len(bert_features)):\n",
        "  fabeec.append( bert_features[i].tolist() + fatf_feature[i].tolist())\n",
        "data['fabeec'] = fabeec\n",
        "\n",
        "bertValues = []\n",
        "for i in range(len(bert_features)):\n",
        "  bertValues.append(bert_features[i].tolist())\n",
        "data['bert'] = bertValues\n",
        "\n",
        "\n",
        "data['fastfatf'] = fatf_feature\n"
      ],
      "execution_count": null,
      "outputs": []
    },
    {
      "cell_type": "code",
      "metadata": {
        "id": "lrobVGJsp6zf"
      },
      "source": [
        "# Adding embedded features to each data set for Train, Test, and Dev sets. \n",
        "start = 0\n",
        "end  =  dfTrain.shape[0] \n",
        "\n",
        "dfTrain['fabeec'] = data.fabeec[start:end]\n",
        "dfTrain['new_label'] = data.new_label[start:end]\n",
        "\n",
        "start= dfTrain.shape[0]\n",
        "end=  start + dfTest.shape[0]\n",
        "dfTest ['fabeec'] = data.fabeec[start:end].values\n",
        "dfTest['new_label'] = data.new_label[start:end].values\n",
        "\n",
        "start= end\n",
        "dfDev ['fabeec'] = data.fabeec[start:].values\n",
        "dfDev['new_label'] = data.new_label[start:].values"
      ],
      "execution_count": null,
      "outputs": []
    },
    {
      "cell_type": "code",
      "metadata": {
        "id": "F-vOMw8Y-DYM"
      },
      "source": [
        "np.array(dfTrain.new_label.to_list())"
      ],
      "execution_count": null,
      "outputs": []
    },
    {
      "cell_type": "markdown",
      "metadata": {
        "id": "Wv_3lPTV69Vt"
      },
      "source": [
        "## Remove NAN features from dataset"
      ]
    },
    {
      "cell_type": "code",
      "metadata": {
        "colab": {
          "base_uri": "https://localhost:8080/"
        },
        "id": "RCMtqcG9AdWU",
        "outputId": "d1f11433-184a-4e6f-f875-1d6ca1b82240"
      },
      "source": [
        "#Drop the rows with None elements \n",
        "\n",
        "def get_nan_ids(df):\n",
        "  j = 0\n",
        "  to_drop = []\n",
        "  for i in df.fabeec.to_list():\n",
        "    if np.any(np.isnan(i)):\n",
        "        to_drop.append(j)\n",
        "    j+=1\n",
        "  return to_drop\n",
        "\n",
        "#remove nan for Train set\n",
        "to_drop = get_nan_ids(dfTrain)\n",
        "dfTrain = dfTrain.drop(to_drop)\n",
        "print(\"Number of removed items in trainin set that contains Nan : {}, the removed inexes {}\".format(len(to_drop), to_drop ))\n",
        "\n",
        "#remove nan for dev test\n",
        "to_drop = get_nan_ids(dfDev)\n",
        "dfDev = dfDev.drop(to_drop)\n",
        "print(\"Number of removed items in Dev set that contains Nan  : {}, the removed inexes {}\".format(len(to_drop), to_drop ))\n",
        "\n",
        "#remove nan for test data\n",
        "to_drop = get_nan_ids(dfTest)\n",
        "dfTest = dfTest.drop(to_drop)\n",
        "print(\"Number of removed items in Test set that contains Nan  : {}, the removed inexes {}\".format(len(to_drop), to_drop ))\n"
      ],
      "execution_count": null,
      "outputs": [
        {
          "output_type": "stream",
          "text": [
            "Number of removed items in trainin set that contains Nan : 11, the removed inexes [2318, 9418, 13499, 16490, 18628, 27961, 32409, 37960, 40589, 41148, 42011]\n",
            "Number of removed items in Dev set that contains Nan  : 0, the removed inexes []\n",
            "Number of removed items in Test set that contains Nan  : 2, the removed inexes [2083, 4026]\n"
          ],
          "name": "stdout"
        }
      ]
    },
    {
      "cell_type": "markdown",
      "metadata": {
        "id": "XFVV0cmbXR3C"
      },
      "source": [
        "#Pipeline Classifiers\n",
        "## constructing pipeline for all classifiers"
      ]
    },
    {
      "cell_type": "code",
      "metadata": {
        "id": "Lb6QaXOEptZ9"
      },
      "source": [
        "isBert = True\n",
        "isFastText = False\n",
        "isFabeec = False\n",
        "\n",
        "y_Train = np.array(dfTrain.new_label.to_list())\n",
        "\n",
        "if isBert:\n",
        "  X_train = np.array(dfTrain.bert.to_list() + dfDev.bert.to_list())\n",
        "  X_test = np.array(dfTest.bert.to_list())\n",
        "elif isFastText:\n",
        "  X_train = np.array(dfTrain.fastfatf.to_list() + dfDev.fastfatf.to_list())\n",
        "  X_test = np.array(dfTest.fastfatf.to_list())\n",
        "else \n",
        "  X_train = np.array(dfTrain.fabeec.to_list() + dfDev.fabeec.to_list())\n",
        "  X_test = np.array(dfTest.fabeec.to_list())\n",
        "\n"
      ],
      "execution_count": null,
      "outputs": []
    },
    {
      "cell_type": "code",
      "metadata": {
        "id": "0I-Dy6WTXaCb"
      },
      "source": [
        "from sklearn import tree\n",
        "from sklearn.multioutput import MultiOutputClassifier\n",
        "from sklearn.svm import LinearSVC\n",
        "from sklearn.neighbors import KNeighborsClassifier\n",
        "from sklearn.ensemble import RandomForestRegressor\n",
        "from sklearn.metrics import precision_recall_fscore_support\n",
        "# from sklearn.cross_validation import cross_val_score\n",
        "# from sklearn.linear_model import SGDRegressor,BayesianRidge,ARDRegression, PassiveAggressiveRegressor, TheilSenRegressor,LinearRegression\n",
        "# import xgboost\n",
        "classifiers = [\n",
        "    KNeighborsClassifier(),\n",
        "#     SGDRegressor(),\n",
        "# #      ,\n",
        "#        BayesianRidge(),\n",
        "# #      LassoLars(),\n",
        "# #      ARDRegression()\n",
        "#       PassiveAggressiveRegressor(),\n",
        "#      TheilSenRegressor(),\n",
        "#     LinearRegression(),\n",
        "#     xgboost.XGBRegressor(early_stopping_rounds=10),\n",
        "#     xgboost.XGBRegressor(colsample_bytree= 0.8, gamma= 0, min_child_weight= 10, learning_rate=0.07, max_depth= 3, \n",
        "                        #  n_estimators= 250, reg_alpha= 1e-05, reg_lambda= 0.01, subsample= 0.95, early_stopping_rounds=10\n",
        "# )\n",
        "]\n",
        "# # y_pred = model.predict(test_X)\n",
        "# # y_pred = target_scaler.inverse_transform(y_pred)\n",
        "# def mpe (pred, real):\n",
        "#     y_test, y_pred = np.array(real), np.array(pred)\n",
        "#     return  np.mean(np.abs((y_test - y_pred) / y_test)) * 100\n",
        "# mpe_res = []\n",
        "\n",
        "precision = []\n",
        "recall []\n",
        "f1\n",
        "\n",
        "\n",
        "\n",
        "for item in classifiers:\n",
        "    print(item)\n",
        "    clf = item\n",
        "    clf.fit(X_train, y_train)\n",
        "    y_pred = clf.predict(X_test)\n",
        "y_pred\n",
        "\n",
        "#     results[\"micro_precision\"], results[\"micro_recall\"], results[\n",
        "#       \"micro_f1\"], _  = precision_recall_fscore_support(y_test, y_pred, average='macro')\n",
        "#       results[\"micro_precision\"], results[\"micro_recall\"], results[\n",
        "#       \"micro_f1\"], _  = precision_recall_fscore_support(y_test, y_pred, average='micro')\n",
        "#       results[\"micro_precision\"], results[\"micro_recall\"], results[\n",
        "#       \"micro_f1\"], _ = precision_recall_fscore_support(y_test, y_pred, average='weighted')\n",
        "\n",
        "\n",
        "#   pred_ind = preds_mat.copy()\n",
        "#   pred_ind[pred_ind > threshold] = 1\n",
        "#   pred_ind[pred_ind <= threshold] = 0\n",
        "\n",
        "  \n",
        "#   for i in range(len(preds)):\n",
        "#     true_labels = [int(idx) for idx in true.loc[i, \"labels\"].split(\",\")]\n",
        "#     for j in range(num_emotions):\n",
        "#       preds_mat[i, j] = preds.loc[i, idx2emotion[j]]\n",
        "#       true_mat[i, j] = 1 if j in true_labels else 0\n",
        "\n",
        "#     mpe_res.append(mpe(  clf.predict(X_test), np.ravel(y_test)))\n",
        "# print(mpe_res)"
      ],
      "execution_count": null,
      "outputs": []
    },
    {
      "cell_type": "code",
      "metadata": {
        "colab": {
          "base_uri": "https://localhost:8080/",
          "height": 374
        },
        "id": "0iQyeocKtjtG",
        "outputId": "f36fe15c-612a-4524-ded2-02208d027400"
      },
      "source": [
        "from sklearn import tree\n",
        "from sklearn.cross_validation import cross_val_score\n",
        "from pprint import pprint\n",
        "\n",
        "\n",
        "\n",
        "dfTrain.reset_index()\n",
        "clf = tree.DecisionTreeClassifier()\n",
        "clf = clf.fit(np.array(dfTrain.fabeec.to_list()), np.array(dfTrain.new_label.to_list()))"
      ],
      "execution_count": null,
      "outputs": [
        {
          "output_type": "error",
          "ename": "ModuleNotFoundError",
          "evalue": "ignored",
          "traceback": [
            "\u001b[0;31m---------------------------------------------------------------------------\u001b[0m",
            "\u001b[0;31mModuleNotFoundError\u001b[0m                       Traceback (most recent call last)",
            "\u001b[0;32m<ipython-input-47-72a2b7b8aa7b>\u001b[0m in \u001b[0;36m<module>\u001b[0;34m()\u001b[0m\n\u001b[1;32m      1\u001b[0m \u001b[0;32mfrom\u001b[0m \u001b[0msklearn\u001b[0m \u001b[0;32mimport\u001b[0m \u001b[0mtree\u001b[0m\u001b[0;34m\u001b[0m\u001b[0;34m\u001b[0m\u001b[0m\n\u001b[0;32m----> 2\u001b[0;31m \u001b[0;32mfrom\u001b[0m \u001b[0mmodel_selection\u001b[0m \u001b[0;32mimport\u001b[0m \u001b[0mcross_val_score\u001b[0m\u001b[0;34m\u001b[0m\u001b[0;34m\u001b[0m\u001b[0m\n\u001b[0m\u001b[1;32m      3\u001b[0m \u001b[0;32mfrom\u001b[0m \u001b[0mpprint\u001b[0m \u001b[0;32mimport\u001b[0m \u001b[0mpprint\u001b[0m\u001b[0;34m\u001b[0m\u001b[0;34m\u001b[0m\u001b[0m\n\u001b[1;32m      4\u001b[0m \u001b[0;34m\u001b[0m\u001b[0m\n\u001b[1;32m      5\u001b[0m \u001b[0;34m\u001b[0m\u001b[0m\n",
            "\u001b[0;31mModuleNotFoundError\u001b[0m: No module named 'model_selection'",
            "",
            "\u001b[0;31m---------------------------------------------------------------------------\u001b[0;32m\nNOTE: If your import is failing due to a missing package, you can\nmanually install dependencies using either !pip or !apt.\n\nTo view examples of installing some common dependencies, click the\n\"Open Examples\" button below.\n\u001b[0;31m---------------------------------------------------------------------------\u001b[0m\n"
          ]
        }
      ]
    },
    {
      "cell_type": "code",
      "metadata": {
        "colab": {
          "base_uri": "https://localhost:8080/",
          "height": 166
        },
        "id": "DKaff4yOZHLM",
        "outputId": "c1b047e9-1adc-4b14-ef85-ef985f0824a2"
      },
      "source": [
        "clf.get_params()"
      ],
      "execution_count": null,
      "outputs": [
        {
          "output_type": "error",
          "ename": "NameError",
          "evalue": "ignored",
          "traceback": [
            "\u001b[0;31m---------------------------------------------------------------------------\u001b[0m",
            "\u001b[0;31mNameError\u001b[0m                                 Traceback (most recent call last)",
            "\u001b[0;32m<ipython-input-48-b3ea3e5db17a>\u001b[0m in \u001b[0;36m<module>\u001b[0;34m()\u001b[0m\n\u001b[0;32m----> 1\u001b[0;31m \u001b[0mclf\u001b[0m\u001b[0;34m.\u001b[0m\u001b[0mget_params\u001b[0m\u001b[0;34m(\u001b[0m\u001b[0;34m)\u001b[0m\u001b[0;34m\u001b[0m\u001b[0;34m\u001b[0m\u001b[0m\n\u001b[0m",
            "\u001b[0;31mNameError\u001b[0m: name 'clf' is not defined"
          ]
        }
      ]
    },
    {
      "cell_type": "code",
      "metadata": {
        "id": "ND9aCLiZAqGS"
      },
      "source": [
        "res = clf.predict(dfTrain.fabeec.to_list())"
      ],
      "execution_count": null,
      "outputs": []
    },
    {
      "cell_type": "code",
      "metadata": {
        "colab": {
          "base_uri": "https://localhost:8080/"
        },
        "id": "b6wBvR_8A6Xx",
        "outputId": "d40c6ed0-e57f-4872-a38d-5ccefb4a823d"
      },
      "source": [
        "from sklearn.metrics import f1_score\n",
        "\n",
        "f1_score(dfTrain.new_label.to_list(), res, average='macro')"
      ],
      "execution_count": null,
      "outputs": [
        {
          "output_type": "execute_result",
          "data": {
            "text/plain": [
              "0.9989913286013007"
            ]
          },
          "metadata": {
            "tags": []
          },
          "execution_count": 30
        }
      ]
    },
    {
      "cell_type": "code",
      "metadata": {
        "colab": {
          "base_uri": "https://localhost:8080/"
        },
        "id": "-Vpfwj-qcwtO",
        "outputId": "9351fab8-acfe-4b70-cdd5-ca358b06575d"
      },
      "source": [
        "from sklearn.model_selection import GridSearchCV\n",
        "parameters = {'max_depth':range(100,200,10), 'min_samples_split':range(5,56,10), 'max_features':['sqrt','log2']}\n",
        "clf_1 = GridSearchCV(tree.DecisionTreeClassifier(), parameters, n_jobs=4)\n",
        "clf_1.fit(X=np.array(dfTrain.fabeec.to_list()), y=np.array(dfTrain.new_label.to_list()))\n",
        "tree_model = clf_1.best_estimator_\n",
        "print (clf_1.best_score_, clf_1.best_params_) \n",
        "dump(multilabel_classifier,'dt.joblib')\n",
        "!cp 'svm.joblib' '/content/drive/MyDrive/dt.joblib'\n"
      ],
      "execution_count": null,
      "outputs": [
        {
          "output_type": "stream",
          "text": [
            "0.7102234882334232 {'max_depth': 170, 'max_features': 'sqrt', 'min_samples_split': 25}\n"
          ],
          "name": "stdout"
        }
      ]
    },
    {
      "cell_type": "markdown",
      "metadata": {
        "id": "tTz8nEtbRxk0"
      },
      "source": [
        "LiearSVM classifer for multi-lable problem "
      ]
    },
    {
      "cell_type": "code",
      "metadata": {
        "id": "on3wrAK72JSV"
      },
      "source": [
        "import matplotlib.pyplot as plt\n",
        "\n",
        "from sklearn.multioutput import MultiOutputClassifier\n",
        "from sklearn.svm import LinearSVC\n",
        "from sklearn.model_selection import train_test_split\n",
        "from sklearn.metrics import multilabel_confusion_matrix, ConfusionMatrixDisplay\n",
        "\n",
        "X_train = np.array(dfTrain.fabeec.to_list())\n",
        "y_train = np.array(dfTrain.new_label.to_list())\n",
        "# Create the SVM\n",
        "svm = LinearSVC(random_state=42)\n",
        "# Make it an Multilabel classifier\n",
        "multilabel_classifier = MultiOutputClassifier(svm, n_jobs=-1)\n",
        "\n",
        "# Fit the data to the Multilabel classifier\n",
        "multilabel_classifier = multilabel_classifier.fit(X_train, y_train)\n",
        "\n",
        "\n",
        "X_test = np.array(dfTest.fabeec.to_list())\n",
        "# Get predictions for test data\n",
        "y_test_pred = multilabel_classifier.predict(X_test)\n",
        "\n",
        "\n"
      ],
      "execution_count": null,
      "outputs": []
    },
    {
      "cell_type": "code",
      "metadata": {
        "colab": {
          "base_uri": "https://localhost:8080/"
        },
        "id": "jfbHJvpYxXee",
        "outputId": "89e55e17-5f93-44f5-b3d4-b7588af2b538"
      },
      "source": [
        "predcited_res = multilabel_classifier.predict(X_train)\n",
        "f1_score(dfTrain.new_label.to_list(), predcited_res, average='macro')\n",
        "\n",
        "from joblib import dump, load\n",
        "dump(multilabel_classifier,'svm.joblib')\n",
        "!cp 'svm.joblib' '/content/drive/MyDrive/svm.joblib'\n",
        "print (f1_score)"
      ],
      "execution_count": null,
      "outputs": [
        {
          "output_type": "stream",
          "text": [
            "<function f1_score at 0x7fd47815b680>\n"
          ],
          "name": "stdout"
        }
      ]
    },
    {
      "cell_type": "code",
      "metadata": {
        "colab": {
          "base_uri": "https://localhost:8080/",
          "height": 237
        },
        "id": "nZhNvQ9Nsi3V",
        "outputId": "f8b69eeb-577e-4a6f-8ed0-816ef83f3a19"
      },
      "source": [
        "import pickle\n",
        "s = pickle.dumps(clf_1, 'decision_tree.joblib')\n",
        "\n",
        "pickle.dumps(multilabel_classifier, 'svm.joblib')\n",
        "\n",
        "!cp 'decision_tree.joblib' '/content/drive/MyDrive/decision_tree.joblib'\n",
        "!cp 'svm.joblib' '/content/drive/MyDrive/svm.joblib'"
      ],
      "execution_count": null,
      "outputs": [
        {
          "output_type": "error",
          "ename": "TypeError",
          "evalue": "ignored",
          "traceback": [
            "\u001b[0;31m---------------------------------------------------------------------------\u001b[0m",
            "\u001b[0;31mTypeError\u001b[0m                                 Traceback (most recent call last)",
            "\u001b[0;32m<ipython-input-40-8f9fd3429608>\u001b[0m in \u001b[0;36m<module>\u001b[0;34m()\u001b[0m\n\u001b[1;32m      1\u001b[0m \u001b[0;32mimport\u001b[0m \u001b[0mpickle\u001b[0m\u001b[0;34m\u001b[0m\u001b[0;34m\u001b[0m\u001b[0m\n\u001b[0;32m----> 2\u001b[0;31m \u001b[0ms\u001b[0m \u001b[0;34m=\u001b[0m \u001b[0mpickle\u001b[0m\u001b[0;34m.\u001b[0m\u001b[0mdumps\u001b[0m\u001b[0;34m(\u001b[0m\u001b[0mclf_1\u001b[0m\u001b[0;34m,\u001b[0m \u001b[0;34m'decision_tree.joblib'\u001b[0m\u001b[0;34m)\u001b[0m\u001b[0;34m\u001b[0m\u001b[0;34m\u001b[0m\u001b[0m\n\u001b[0m\u001b[1;32m      3\u001b[0m \u001b[0;34m\u001b[0m\u001b[0m\n\u001b[1;32m      4\u001b[0m \u001b[0mpickle\u001b[0m\u001b[0;34m.\u001b[0m\u001b[0mdumps\u001b[0m\u001b[0;34m(\u001b[0m\u001b[0mmultilabel_classifier\u001b[0m\u001b[0;34m,\u001b[0m \u001b[0;34m'svm.joblib'\u001b[0m\u001b[0;34m)\u001b[0m\u001b[0;34m\u001b[0m\u001b[0;34m\u001b[0m\u001b[0m\n\u001b[1;32m      5\u001b[0m \u001b[0;34m\u001b[0m\u001b[0m\n",
            "\u001b[0;31mTypeError\u001b[0m: an integer is required (got type str)"
          ]
        }
      ]
    },
    {
      "cell_type": "markdown",
      "metadata": {
        "id": "rg6EUEt474Wd"
      },
      "source": [
        "# KNN For multi label classifier\n"
      ]
    },
    {
      "cell_type": "code",
      "metadata": {
        "colab": {
          "base_uri": "https://localhost:8080/",
          "height": 235
        },
        "id": "Wk6_-on9KJHR",
        "outputId": "ab7bd1b6-8ea0-4475-f8ec-48d8f1b3f4e8"
      },
      "source": [
        "from sklearn.model_selection import GridSearchCV\n",
        "from sklearn.neighbors import KNeighborsClassifier\n",
        "#create new a knn model\n",
        "knn2 = KNeighborsClassifier()\n",
        "#create a dictionary of all values we want to test for n_neighbors\n",
        "param_grid = {'n_neighbors': np.arange(5, 6)}\n",
        "#use gridsearch to test all values for n_neighbors\n",
        "knn_gscv = GridSearchCV(knn2, param_grid, cv=5)\n",
        "#fit model to data\n",
        "X_train = np.array(dfTrain.fabeec.to_list())\n",
        "y_train = np.array(dfTrain.new_label.to_list())\n",
        "knn_gscv.fit(X_train, y_train)"
      ],
      "execution_count": null,
      "outputs": [
        {
          "output_type": "error",
          "ename": "KeyboardInterrupt",
          "evalue": "ignored",
          "traceback": [
            "\u001b[0;31m---------------------------------------------------------------------------\u001b[0m",
            "\u001b[0;31mKeyboardInterrupt\u001b[0m                         Traceback (most recent call last)",
            "\u001b[0;32m<ipython-input-35-59d2ae124c59>\u001b[0m in \u001b[0;36m<module>\u001b[0;34m()\u001b[0m\n\u001b[1;32m      8\u001b[0m \u001b[0mknn_gscv\u001b[0m \u001b[0;34m=\u001b[0m \u001b[0mGridSearchCV\u001b[0m\u001b[0;34m(\u001b[0m\u001b[0mknn2\u001b[0m\u001b[0;34m,\u001b[0m \u001b[0mparam_grid\u001b[0m\u001b[0;34m,\u001b[0m \u001b[0mcv\u001b[0m\u001b[0;34m=\u001b[0m\u001b[0;36m5\u001b[0m\u001b[0;34m)\u001b[0m\u001b[0;34m\u001b[0m\u001b[0;34m\u001b[0m\u001b[0m\n\u001b[1;32m      9\u001b[0m \u001b[0;31m#fit model to data\u001b[0m\u001b[0;34m\u001b[0m\u001b[0;34m\u001b[0m\u001b[0;34m\u001b[0m\u001b[0m\n\u001b[0;32m---> 10\u001b[0;31m \u001b[0mX_train\u001b[0m \u001b[0;34m=\u001b[0m \u001b[0mnp\u001b[0m\u001b[0;34m.\u001b[0m\u001b[0marray\u001b[0m\u001b[0;34m(\u001b[0m\u001b[0mdfTrain\u001b[0m\u001b[0;34m.\u001b[0m\u001b[0mfabeec\u001b[0m\u001b[0;34m.\u001b[0m\u001b[0mto_list\u001b[0m\u001b[0;34m(\u001b[0m\u001b[0;34m)\u001b[0m\u001b[0;34m)\u001b[0m\u001b[0;34m\u001b[0m\u001b[0;34m\u001b[0m\u001b[0m\n\u001b[0m\u001b[1;32m     11\u001b[0m \u001b[0my_train\u001b[0m \u001b[0;34m=\u001b[0m \u001b[0mnp\u001b[0m\u001b[0;34m.\u001b[0m\u001b[0marray\u001b[0m\u001b[0;34m(\u001b[0m\u001b[0mdfTrain\u001b[0m\u001b[0;34m.\u001b[0m\u001b[0mnew_label\u001b[0m\u001b[0;34m.\u001b[0m\u001b[0mto_list\u001b[0m\u001b[0;34m(\u001b[0m\u001b[0;34m)\u001b[0m\u001b[0;34m)\u001b[0m\u001b[0;34m\u001b[0m\u001b[0;34m\u001b[0m\u001b[0m\n\u001b[1;32m     12\u001b[0m \u001b[0mknn_gscv\u001b[0m\u001b[0;34m.\u001b[0m\u001b[0mfit\u001b[0m\u001b[0;34m(\u001b[0m\u001b[0mX_train\u001b[0m\u001b[0;34m,\u001b[0m \u001b[0my_train\u001b[0m\u001b[0;34m)\u001b[0m\u001b[0;34m\u001b[0m\u001b[0;34m\u001b[0m\u001b[0m\n",
            "\u001b[0;31mKeyboardInterrupt\u001b[0m: "
          ]
        }
      ]
    },
    {
      "cell_type": "code",
      "metadata": {
        "id": "tWYpo2JWVP4N"
      },
      "source": [
        "knn_gscv"
      ],
      "execution_count": null,
      "outputs": []
    },
    {
      "cell_type": "markdown",
      "metadata": {
        "id": "m5rCfawgVJOa"
      },
      "source": [
        ""
      ]
    },
    {
      "cell_type": "code",
      "metadata": {
        "id": "e7o1ImY6MW__"
      },
      "source": [
        "from joblib import dump\n",
        "\n",
        "\n",
        "knn_model = knn_gscv.best_estimator_\n",
        "print (knn_gscv.best_score_, knn_gscv.best_params_) \n",
        "dump(knn_gscv,'knn.joblib')\n",
        "!cp 'knn.joblib' '/content/drive/MyDrive/knn.joblib'"
      ],
      "execution_count": null,
      "outputs": []
    },
    {
      "cell_type": "code",
      "metadata": {
        "id": "T0TWqihZLyZW"
      },
      "source": [
        "X_test = np.array(dfTest.fabeec.to_list())\n",
        "y_test = np.array(dfTest.new_label.to_list())\n",
        "knn_gscv.predict(X_test)\n",
        "knn_gscv.score(X_test, y_test)"
      ],
      "execution_count": null,
      "outputs": []
    },
    {
      "cell_type": "markdown",
      "metadata": {
        "id": "UxyjfxRXOiN2"
      },
      "source": [
        "# Random Forest for MultiLabel Classifier"
      ]
    },
    {
      "cell_type": "code",
      "metadata": {
        "id": "wnaTw9WVpock"
      },
      "source": [
        "X_train = np.array(dfTrain.fabeec.to_list())\n",
        "y_train = np.array(dfTrain.new_label.to_list())"
      ],
      "execution_count": null,
      "outputs": []
    },
    {
      "cell_type": "code",
      "metadata": {
        "colab": {
          "base_uri": "https://localhost:8080/"
        },
        "id": "O4TYGb5hQfsT",
        "outputId": "e0d50596-edeb-47f8-c526-b9f909b393a6"
      },
      "source": [
        "from sklearn.model_selection import RandomizedSearchCV\n",
        "from sklearn.ensemble import RandomForestRegressor\n",
        "from sklearn.model_selection import GridSearchCV\n",
        "from joblib import dump\n",
        "\n",
        "\n",
        "# Create the parameter grid based on the results of random search \n",
        "param_grid = {\n",
        "    'bootstrap': [True],\n",
        "    'max_depth': [50, 100, 200],\n",
        "    'max_features': ['sqrt', 'log2'],\n",
        "    'min_samples_leaf': [4, 5],\n",
        "    'min_samples_split': [5],\n",
        "    'n_estimators': [50, 100, 300]\n",
        "}\n",
        "# Create a based model\n",
        "rf = RandomForestRegressor()\n",
        "# Instantiate the grid search model\n",
        "grid_search = GridSearchCV(estimator = rf, param_grid = param_grid, \n",
        "                          cv = 5, verbose = 2, n_jobs = -1)\n",
        "grid_search.fit(X_train[1:1000], y_train[1:1000])\n",
        "\n",
        "\n",
        "rf_model = grid_search.best_estimator_\n",
        "print (grid_search.best_score_, grid_search.best_params_) \n",
        "dump(grid_search,'rf.joblib')\n",
        "!cp 'rf.joblib' '/content/drive/MyDrive/rf.joblib'\n",
        "\n"
      ],
      "execution_count": null,
      "outputs": [
        {
          "output_type": "stream",
          "text": [
            "Fitting 3 folds for each of 36 candidates, totalling 108 fits\n"
          ],
          "name": "stdout"
        },
        {
          "output_type": "stream",
          "text": [
            "[Parallel(n_jobs=-1)]: Using backend LokyBackend with 2 concurrent workers.\n",
            "[Parallel(n_jobs=-1)]: Done  37 tasks      | elapsed:   41.7s\n",
            "[Parallel(n_jobs=-1)]: Done 108 out of 108 | elapsed:  2.0min finished\n"
          ],
          "name": "stderr"
        },
        {
          "output_type": "stream",
          "text": [
            "0.6569000264481762 {'bootstrap': True, 'max_depth': 100, 'max_features': 'sqrt', 'min_samples_leaf': 4, 'min_samples_split': 5, 'n_estimators': 300}\n"
          ],
          "name": "stdout"
        }
      ]
    },
    {
      "cell_type": "code",
      "metadata": {
        "colab": {
          "base_uri": "https://localhost:8080/"
        },
        "id": "hvEw7OQzqLei",
        "outputId": "8db2403a-ff85-4f5a-f8fb-71b9be05f51d"
      },
      "source": [
        "X_test = np.array(dfTest.fabeec.to_list())\n",
        "y_test = np.array(dfTest.new_label.to_list())\n",
        "grid_search.predict(X_test)\n",
        "grid_search.score(X_test, y_test)"
      ],
      "execution_count": null,
      "outputs": [
        {
          "output_type": "stream",
          "text": [
            "/usr/local/lib/python3.7/dist-packages/sklearn/base.py:434: FutureWarning: The default value of multioutput (not exposed in score method) will change from 'variance_weighted' to 'uniform_average' in 0.23 to keep consistent with 'metrics.r2_score'. To specify the default value manually and avoid the warning, please either call 'metrics.r2_score' directly or make a custom scorer with 'metrics.make_scorer' (the built-in scorer 'r2' uses multioutput='uniform_average').\n",
            "  \"multioutput='uniform_average').\", FutureWarning)\n"
          ],
          "name": "stderr"
        },
        {
          "output_type": "execute_result",
          "data": {
            "text/plain": [
              "0.28012521348046004"
            ]
          },
          "metadata": {
            "tags": []
          },
          "execution_count": 46
        }
      ]
    },
    {
      "cell_type": "code",
      "metadata": {
        "id": "GtyhQwdKDe8r"
      },
      "source": [
        ""
      ],
      "execution_count": null,
      "outputs": []
    },
    {
      "cell_type": "code",
      "metadata": {
        "id": "Euv0lZKid8KY"
      },
      "source": [
        "from joblib import dump\n",
        "rf_model = grid_search.best_estimator_\n",
        "print (rf_mode..best_score_, rf.best_params_) \n",
        "dump(rf,'rf.joblib')\n",
        "!cp 'rf.joblib' '/content/drive/MyDrive/rf.joblib'"
      ],
      "execution_count": null,
      "outputs": []
    },
    {
      "cell_type": "markdown",
      "metadata": {
        "id": "ojCZ3jQunBfZ"
      },
      "source": [
        "# CNN for Multilabel Text Classification"
      ]
    },
    {
      "cell_type": "code",
      "metadata": {
        "colab": {
          "base_uri": "https://localhost:8080/",
          "height": 201
        },
        "id": "qpJjyDupDhsy",
        "outputId": "e12a4493-2b5e-4e8b-d55f-4480079c7395"
      },
      "source": [
        "X_train.shape\n",
        "y_train.shape\n",
        "X_test.shape"
      ],
      "execution_count": null,
      "outputs": [
        {
          "output_type": "error",
          "ename": "NameError",
          "evalue": "ignored",
          "traceback": [
            "\u001b[0;31m---------------------------------------------------------------------------\u001b[0m",
            "\u001b[0;31mNameError\u001b[0m                                 Traceback (most recent call last)",
            "\u001b[0;32m<ipython-input-1-0ef8cfc4585a>\u001b[0m in \u001b[0;36m<module>\u001b[0;34m()\u001b[0m\n\u001b[0;32m----> 1\u001b[0;31m \u001b[0mX_train\u001b[0m\u001b[0;34m.\u001b[0m\u001b[0mshape\u001b[0m\u001b[0;34m\u001b[0m\u001b[0;34m\u001b[0m\u001b[0m\n\u001b[0m\u001b[1;32m      2\u001b[0m \u001b[0my_train\u001b[0m\u001b[0;34m.\u001b[0m\u001b[0mshape\u001b[0m\u001b[0;34m\u001b[0m\u001b[0;34m\u001b[0m\u001b[0m\n\u001b[1;32m      3\u001b[0m \u001b[0mX_test\u001b[0m\u001b[0;34m.\u001b[0m\u001b[0mshape\u001b[0m\u001b[0;34m\u001b[0m\u001b[0;34m\u001b[0m\u001b[0m\n",
            "\u001b[0;31mNameError\u001b[0m: name 'X_train' is not defined"
          ]
        }
      ]
    },
    {
      "cell_type": "code",
      "metadata": {
        "id": "B5LhlNElDm-l"
      },
      "source": [
        "X_test = np.array(dfTest.fabeec.to_list())\n",
        "y_test = np.array(dfTest.new_label.to_list())\n",
        "\n",
        "X_train = np.array(dfTrain.fabeec.to_list() + dfDev.fabeec.to_list())\n",
        "y_train = np.array(dfTrain.new_label.to_list() + dfDev.new_label.to_list())\n",
        "\n",
        "# X_train1 = np.array(dfTrain.fabeec.to_list()).reshape(X_train.shape[0], 1, X_train.shape[1])\n",
        "X_train1 = X_train.reshape(X_train.shape[0], X_train.shape[1], 1)\n",
        "y_train1= y_train.reshape(y_train.shape[0], y_train.shape[1])\n",
        "\n",
        "X_test1 = X_test.reshape(X_test.shape[0], X_test.shape[1], 1)\n",
        "y_test1= y_test.reshape(y_test.shape[0], y_test.shape[1], 1)"
      ],
      "execution_count": null,
      "outputs": []
    },
    {
      "cell_type": "code",
      "metadata": {
        "id": "p5hc4retp354"
      },
      "source": [
        "X_train = []\n",
        "X_test =[]"
      ],
      "execution_count": null,
      "outputs": []
    },
    {
      "cell_type": "code",
      "metadata": {
        "id": "C-APmimXn9G1"
      },
      "source": [
        "# np.savetxt('X_train.csv', X_train, delimiter=',')\n",
        "# np.savetxt('X_test.csv', X_test, delimiter=',')\n",
        "np.savetxt('y_train.csv', y_train, delimiter=',')\n",
        "np.savetxt('y_test.csv', y_test, delimiter=',')\n"
      ],
      "execution_count": null,
      "outputs": []
    },
    {
      "cell_type": "code",
      "metadata": {
        "id": "Cai-p7FGrkx4"
      },
      "source": [
        "!cp /content/drive/MyDrive/fabeec/X_test.csv X_test.csv \n",
        "!cp /content/drive/MyDrive/fabeec/X_train.csv X_train.csv "
      ],
      "execution_count": null,
      "outputs": []
    },
    {
      "cell_type": "code",
      "metadata": {
        "id": "1-7EdySHuHQE"
      },
      "source": [
        "from numpy import genfromtxt\n",
        "X_train = genfromtxt('X_train.csv', delimiter=',')\n",
        "X_test = genfromtxt('X_test.csv', delimiter=',')\n",
        "y_train = genfromtxt('y_train.csv', delimiter=',')\n",
        "y_test = genfromtxt('y_test.csv', delimiter=',')"
      ],
      "execution_count": null,
      "outputs": []
    },
    {
      "cell_type": "code",
      "metadata": {
        "id": "G2PFjWyjtU5C"
      },
      "source": [
        "X_train1 = X_train.reshape(X_train.shape[0], X_train.shape[1], 1)\n",
        "y_train1= y_train.reshape(y_train.shape[0], y_train.shape[1])\n",
        "\n",
        "X_test1 = X_test.reshape(X_test.shape[0], X_test.shape[1], 1)\n",
        "y_test1= y_test.reshape(y_test.shape[0], y_test.shape[1], 1)"
      ],
      "execution_count": null,
      "outputs": []
    },
    {
      "cell_type": "code",
      "metadata": {
        "colab": {
          "base_uri": "https://localhost:8080/"
        },
        "id": "V43LLWf78r48",
        "outputId": "b5aa983a-0a36-455d-c68c-d651682e4e62"
      },
      "source": [
        "from keras.models import Sequential\n",
        "from keras.layers import Dense, Activation, Embedding, Flatten, MaxPooling1D, GlobalMaxPool1D, Dropout, Conv1D\n",
        "from keras.callbacks import ReduceLROnPlateau, EarlyStopping, ModelCheckpoint\n",
        "from keras.losses import binary_crossentropy\n",
        "from keras.optimizers import Adam\n",
        "from keras.utils import to_categorical\n",
        "from keras import models\n",
        "from keras.regularizers import l2   \n",
        "\n",
        "num_classes = 28\n",
        "\n",
        "model = Sequential()\n",
        "model.add(Conv1D(filters=64, kernel_size=3, activation='relu', input_shape = (1068, 1)))\n",
        "\n",
        "model.add(Dropout(0.3))\n",
        "model.add(MaxPooling1D(pool_size=2))\n",
        "model.add(Conv1D(filters=32, kernel_size=3, activation='relu'))\n",
        "\n",
        "# model.add(Dropout(0.5))\n",
        "# model.add(MaxPooling1D(pool_size=2))\n",
        "# model.add(Conv1D(filters=32, kernel_size=3, activation='relu'))\n",
        "\n",
        "\n",
        "model.add(Dropout(0.3))\n",
        "model.add(MaxPooling1D(pool_size=2))\n",
        "model.add(Flatten())\n",
        "# model.add(Dense(32, kernel_regularizer=l2(0.01), bias_regularizer=l2(0.01)))\n",
        "model.add(Dense(100, activation='relu', kernel_regularizer=l2(0.01), bias_regularizer=l2(0.01) ))\n",
        "model.add(Dense(28, activation='sigmoid'))\n",
        "\n",
        "model.compile(loss='binary_crossentropy', optimizer='adam', metrics=['categorical_accuracy'])\n",
        "callbacks = [\n",
        "    ReduceLROnPlateau(),\n",
        "    EarlyStopping(patience=40),\n",
        "    ModelCheckpoint(filepath='model-conv1d.h5', save_best_only=True)\n",
        "]\n",
        "\n",
        "history = model.fit(X_train1, y_train1,\n",
        "                    epochs=200,\n",
        "                    batch_size=32,\n",
        "                    validation_split=0.1,\n",
        "                    callbacks=callbacks)\n",
        "\n",
        "y_pred = model.predict(X_test1)\n",
        "\n",
        "\n",
        "# new_model = models.load_model('model-conv1d.h5')\n",
        "# loss, acc = new_model.evaluate(X_test1, y_test1, verbose=2)\n",
        "# print('Restored model, accuracy: {:5.2f}%'.format(100 * acc))\n",
        "\n",
        "# print(new_model.predict(X_test1))"
      ],
      "execution_count": null,
      "outputs": [
        {
          "output_type": "stream",
          "text": [
            "Epoch 1/200\n",
            "1374/1374 [==============================] - 10s 7ms/step - loss: 0.1791 - categorical_accuracy: 0.7701 - val_loss: 0.1242 - val_categorical_accuracy: 0.5345\n",
            "Epoch 2/200\n",
            "1374/1374 [==============================] - 9s 7ms/step - loss: 0.0474 - categorical_accuracy: 0.8614 - val_loss: 0.1226 - val_categorical_accuracy: 0.5398\n",
            "Epoch 3/200\n",
            "1374/1374 [==============================] - 9s 7ms/step - loss: 0.0457 - categorical_accuracy: 0.8626 - val_loss: 0.1274 - val_categorical_accuracy: 0.5359\n",
            "Epoch 4/200\n",
            "1374/1374 [==============================] - 9s 7ms/step - loss: 0.0463 - categorical_accuracy: 0.8631 - val_loss: 0.1228 - val_categorical_accuracy: 0.5357\n",
            "Epoch 5/200\n",
            "1374/1374 [==============================] - 9s 6ms/step - loss: 0.0450 - categorical_accuracy: 0.8609 - val_loss: 0.1228 - val_categorical_accuracy: 0.5390\n",
            "Epoch 6/200\n",
            "1374/1374 [==============================] - 9s 7ms/step - loss: 0.0442 - categorical_accuracy: 0.8644 - val_loss: 0.1264 - val_categorical_accuracy: 0.5364\n",
            "Epoch 7/200\n",
            "1374/1374 [==============================] - 9s 7ms/step - loss: 0.0451 - categorical_accuracy: 0.8594 - val_loss: 0.1230 - val_categorical_accuracy: 0.5445\n",
            "Epoch 8/200\n",
            "1374/1374 [==============================] - 9s 7ms/step - loss: 0.0443 - categorical_accuracy: 0.8658 - val_loss: 0.1192 - val_categorical_accuracy: 0.5292\n",
            "Epoch 9/200\n",
            "1374/1374 [==============================] - 9s 7ms/step - loss: 0.0437 - categorical_accuracy: 0.8620 - val_loss: 0.1222 - val_categorical_accuracy: 0.5384\n",
            "Epoch 10/200\n",
            "1374/1374 [==============================] - 9s 7ms/step - loss: 0.0429 - categorical_accuracy: 0.8669 - val_loss: 0.1215 - val_categorical_accuracy: 0.5437\n",
            "Epoch 11/200\n",
            "1374/1374 [==============================] - 9s 6ms/step - loss: 0.0432 - categorical_accuracy: 0.8639 - val_loss: 0.1193 - val_categorical_accuracy: 0.5345\n",
            "Epoch 12/200\n",
            "1374/1374 [==============================] - 9s 7ms/step - loss: 0.0434 - categorical_accuracy: 0.8610 - val_loss: 0.1237 - val_categorical_accuracy: 0.5415\n",
            "Epoch 13/200\n",
            "1374/1374 [==============================] - 9s 6ms/step - loss: 0.0424 - categorical_accuracy: 0.8614 - val_loss: 0.1221 - val_categorical_accuracy: 0.5392\n",
            "Epoch 14/200\n",
            "1374/1374 [==============================] - 9s 7ms/step - loss: 0.0427 - categorical_accuracy: 0.8640 - val_loss: 0.1204 - val_categorical_accuracy: 0.5388\n",
            "Epoch 15/200\n",
            "1374/1374 [==============================] - 9s 7ms/step - loss: 0.0430 - categorical_accuracy: 0.8613 - val_loss: 0.1214 - val_categorical_accuracy: 0.5349\n",
            "Epoch 16/200\n",
            "1374/1374 [==============================] - 9s 7ms/step - loss: 0.0422 - categorical_accuracy: 0.8630 - val_loss: 0.1223 - val_categorical_accuracy: 0.5435\n",
            "Epoch 17/200\n",
            "1374/1374 [==============================] - 9s 7ms/step - loss: 0.0424 - categorical_accuracy: 0.8619 - val_loss: 0.1200 - val_categorical_accuracy: 0.5402\n",
            "Epoch 18/200\n",
            "1374/1374 [==============================] - 9s 7ms/step - loss: 0.0421 - categorical_accuracy: 0.8622 - val_loss: 0.1227 - val_categorical_accuracy: 0.5353\n",
            "Epoch 19/200\n",
            "1374/1374 [==============================] - 9s 6ms/step - loss: 0.0338 - categorical_accuracy: 0.8704 - val_loss: 0.1077 - val_categorical_accuracy: 0.5398\n",
            "Epoch 20/200\n",
            "1374/1374 [==============================] - 9s 7ms/step - loss: 0.0288 - categorical_accuracy: 0.8719 - val_loss: 0.1087 - val_categorical_accuracy: 0.5439\n",
            "Epoch 21/200\n",
            "1374/1374 [==============================] - 9s 7ms/step - loss: 0.0272 - categorical_accuracy: 0.8749 - val_loss: 0.1072 - val_categorical_accuracy: 0.5454\n",
            "Epoch 22/200\n",
            "1374/1374 [==============================] - 9s 7ms/step - loss: 0.0276 - categorical_accuracy: 0.8691 - val_loss: 0.1093 - val_categorical_accuracy: 0.5433\n",
            "Epoch 23/200\n",
            "1374/1374 [==============================] - 9s 7ms/step - loss: 0.0274 - categorical_accuracy: 0.8715 - val_loss: 0.1077 - val_categorical_accuracy: 0.5472\n",
            "Epoch 24/200\n",
            "1374/1374 [==============================] - 9s 7ms/step - loss: 0.0268 - categorical_accuracy: 0.8719 - val_loss: 0.1070 - val_categorical_accuracy: 0.5437\n",
            "Epoch 25/200\n",
            "1374/1374 [==============================] - 9s 7ms/step - loss: 0.0269 - categorical_accuracy: 0.8736 - val_loss: 0.1087 - val_categorical_accuracy: 0.5427\n",
            "Epoch 26/200\n",
            "1374/1374 [==============================] - 9s 7ms/step - loss: 0.0267 - categorical_accuracy: 0.8733 - val_loss: 0.1078 - val_categorical_accuracy: 0.5458\n",
            "Epoch 27/200\n",
            "1374/1374 [==============================] - 9s 6ms/step - loss: 0.0264 - categorical_accuracy: 0.8721 - val_loss: 0.1083 - val_categorical_accuracy: 0.5486\n",
            "Epoch 28/200\n",
            "1374/1374 [==============================] - 9s 7ms/step - loss: 0.0265 - categorical_accuracy: 0.8734 - val_loss: 0.1085 - val_categorical_accuracy: 0.5411\n",
            "Epoch 29/200\n",
            "1374/1374 [==============================] - 9s 7ms/step - loss: 0.0271 - categorical_accuracy: 0.8712 - val_loss: 0.1089 - val_categorical_accuracy: 0.5466\n",
            "Epoch 30/200\n",
            "1374/1374 [==============================] - 9s 7ms/step - loss: 0.0261 - categorical_accuracy: 0.8759 - val_loss: 0.1089 - val_categorical_accuracy: 0.5415\n",
            "Epoch 31/200\n",
            "1374/1374 [==============================] - 9s 7ms/step - loss: 0.0264 - categorical_accuracy: 0.8746 - val_loss: 0.1086 - val_categorical_accuracy: 0.5437\n",
            "Epoch 32/200\n",
            "1374/1374 [==============================] - 9s 7ms/step - loss: 0.0266 - categorical_accuracy: 0.8745 - val_loss: 0.1091 - val_categorical_accuracy: 0.5476\n",
            "Epoch 33/200\n",
            "1374/1374 [==============================] - 9s 7ms/step - loss: 0.0268 - categorical_accuracy: 0.8743 - val_loss: 0.1093 - val_categorical_accuracy: 0.5411\n",
            "Epoch 34/200\n",
            "1374/1374 [==============================] - 9s 7ms/step - loss: 0.0270 - categorical_accuracy: 0.8681 - val_loss: 0.1086 - val_categorical_accuracy: 0.5456\n",
            "Epoch 35/200\n",
            "1374/1374 [==============================] - 9s 6ms/step - loss: 0.0249 - categorical_accuracy: 0.8758 - val_loss: 0.1070 - val_categorical_accuracy: 0.5488\n",
            "Epoch 36/200\n",
            "1374/1374 [==============================] - 9s 7ms/step - loss: 0.0248 - categorical_accuracy: 0.8753 - val_loss: 0.1067 - val_categorical_accuracy: 0.5462\n",
            "Epoch 37/200\n",
            "1374/1374 [==============================] - 9s 7ms/step - loss: 0.0245 - categorical_accuracy: 0.8758 - val_loss: 0.1065 - val_categorical_accuracy: 0.5482\n",
            "Epoch 38/200\n",
            "1374/1374 [==============================] - 9s 7ms/step - loss: 0.0238 - categorical_accuracy: 0.8795 - val_loss: 0.1058 - val_categorical_accuracy: 0.5452\n",
            "Epoch 39/200\n",
            "1374/1374 [==============================] - 9s 7ms/step - loss: 0.0244 - categorical_accuracy: 0.8780 - val_loss: 0.1060 - val_categorical_accuracy: 0.5488\n",
            "Epoch 40/200\n",
            "1374/1374 [==============================] - 9s 7ms/step - loss: 0.0242 - categorical_accuracy: 0.8761 - val_loss: 0.1061 - val_categorical_accuracy: 0.5478\n",
            "Epoch 41/200\n",
            "1374/1374 [==============================] - 9s 7ms/step - loss: 0.0241 - categorical_accuracy: 0.8773 - val_loss: 0.1059 - val_categorical_accuracy: 0.5476\n",
            "Epoch 42/200\n",
            "1374/1374 [==============================] - 9s 7ms/step - loss: 0.0238 - categorical_accuracy: 0.8744 - val_loss: 0.1059 - val_categorical_accuracy: 0.5497\n",
            "Epoch 43/200\n",
            "1374/1374 [==============================] - 9s 7ms/step - loss: 0.0239 - categorical_accuracy: 0.8766 - val_loss: 0.1063 - val_categorical_accuracy: 0.5478\n",
            "Epoch 44/200\n",
            "1374/1374 [==============================] - 9s 7ms/step - loss: 0.0237 - categorical_accuracy: 0.8756 - val_loss: 0.1061 - val_categorical_accuracy: 0.5458\n",
            "Epoch 45/200\n",
            "1374/1374 [==============================] - 9s 7ms/step - loss: 0.0236 - categorical_accuracy: 0.8774 - val_loss: 0.1059 - val_categorical_accuracy: 0.5490\n",
            "Epoch 46/200\n",
            "1374/1374 [==============================] - 9s 7ms/step - loss: 0.0235 - categorical_accuracy: 0.8780 - val_loss: 0.1063 - val_categorical_accuracy: 0.5482\n",
            "Epoch 47/200\n",
            "1374/1374 [==============================] - 9s 7ms/step - loss: 0.0238 - categorical_accuracy: 0.8761 - val_loss: 0.1061 - val_categorical_accuracy: 0.5454\n",
            "Epoch 48/200\n",
            "1374/1374 [==============================] - 9s 7ms/step - loss: 0.0236 - categorical_accuracy: 0.8767 - val_loss: 0.1062 - val_categorical_accuracy: 0.5476\n",
            "Epoch 49/200\n",
            "1374/1374 [==============================] - 9s 7ms/step - loss: 0.0233 - categorical_accuracy: 0.8774 - val_loss: 0.1060 - val_categorical_accuracy: 0.5470\n",
            "Epoch 50/200\n",
            "1374/1374 [==============================] - 9s 7ms/step - loss: 0.0227 - categorical_accuracy: 0.8792 - val_loss: 0.1059 - val_categorical_accuracy: 0.5466\n",
            "Epoch 51/200\n",
            "1374/1374 [==============================] - 9s 7ms/step - loss: 0.0229 - categorical_accuracy: 0.8803 - val_loss: 0.1059 - val_categorical_accuracy: 0.5476\n",
            "Epoch 52/200\n",
            "1374/1374 [==============================] - 9s 7ms/step - loss: 0.0229 - categorical_accuracy: 0.8798 - val_loss: 0.1059 - val_categorical_accuracy: 0.5476\n",
            "Epoch 53/200\n",
            "1374/1374 [==============================] - 9s 7ms/step - loss: 0.0230 - categorical_accuracy: 0.8773 - val_loss: 0.1059 - val_categorical_accuracy: 0.5476\n",
            "Epoch 54/200\n",
            "1374/1374 [==============================] - 9s 7ms/step - loss: 0.0231 - categorical_accuracy: 0.8784 - val_loss: 0.1058 - val_categorical_accuracy: 0.5474\n",
            "Epoch 55/200\n",
            "1374/1374 [==============================] - 9s 7ms/step - loss: 0.0228 - categorical_accuracy: 0.8762 - val_loss: 0.1058 - val_categorical_accuracy: 0.5468\n",
            "Epoch 56/200\n",
            "1374/1374 [==============================] - 9s 7ms/step - loss: 0.0232 - categorical_accuracy: 0.8777 - val_loss: 0.1058 - val_categorical_accuracy: 0.5482\n",
            "Epoch 57/200\n",
            "1374/1374 [==============================] - 9s 7ms/step - loss: 0.0233 - categorical_accuracy: 0.8744 - val_loss: 0.1058 - val_categorical_accuracy: 0.5476\n",
            "Epoch 58/200\n",
            "1374/1374 [==============================] - 9s 7ms/step - loss: 0.0233 - categorical_accuracy: 0.8758 - val_loss: 0.1058 - val_categorical_accuracy: 0.5486\n",
            "Epoch 59/200\n",
            "1374/1374 [==============================] - 9s 7ms/step - loss: 0.0234 - categorical_accuracy: 0.8788 - val_loss: 0.1058 - val_categorical_accuracy: 0.5486\n",
            "Epoch 60/200\n",
            "1374/1374 [==============================] - 9s 7ms/step - loss: 0.0229 - categorical_accuracy: 0.8763 - val_loss: 0.1058 - val_categorical_accuracy: 0.5488\n",
            "Epoch 61/200\n",
            "1374/1374 [==============================] - 9s 7ms/step - loss: 0.0235 - categorical_accuracy: 0.8762 - val_loss: 0.1058 - val_categorical_accuracy: 0.5486\n",
            "Epoch 62/200\n",
            "1374/1374 [==============================] - 9s 7ms/step - loss: 0.0234 - categorical_accuracy: 0.8746 - val_loss: 0.1058 - val_categorical_accuracy: 0.5482\n",
            "Epoch 63/200\n",
            "1374/1374 [==============================] - 9s 7ms/step - loss: 0.0231 - categorical_accuracy: 0.8786 - val_loss: 0.1058 - val_categorical_accuracy: 0.5482\n",
            "Epoch 64/200\n",
            "1374/1374 [==============================] - 9s 7ms/step - loss: 0.0233 - categorical_accuracy: 0.8750 - val_loss: 0.1058 - val_categorical_accuracy: 0.5482\n",
            "Epoch 65/200\n",
            "1374/1374 [==============================] - 9s 7ms/step - loss: 0.0234 - categorical_accuracy: 0.8767 - val_loss: 0.1058 - val_categorical_accuracy: 0.5484\n",
            "Epoch 66/200\n",
            "1374/1374 [==============================] - 9s 7ms/step - loss: 0.0233 - categorical_accuracy: 0.8764 - val_loss: 0.1058 - val_categorical_accuracy: 0.5484\n",
            "Epoch 67/200\n",
            "1374/1374 [==============================] - 9s 7ms/step - loss: 0.0235 - categorical_accuracy: 0.8752 - val_loss: 0.1058 - val_categorical_accuracy: 0.5484\n",
            "Epoch 68/200\n",
            "1374/1374 [==============================] - 9s 7ms/step - loss: 0.0231 - categorical_accuracy: 0.8802 - val_loss: 0.1058 - val_categorical_accuracy: 0.5484\n",
            "Epoch 69/200\n",
            "1374/1374 [==============================] - 9s 7ms/step - loss: 0.0232 - categorical_accuracy: 0.8777 - val_loss: 0.1058 - val_categorical_accuracy: 0.5484\n",
            "Epoch 70/200\n",
            "1374/1374 [==============================] - 9s 7ms/step - loss: 0.0229 - categorical_accuracy: 0.8772 - val_loss: 0.1058 - val_categorical_accuracy: 0.5484\n",
            "Epoch 71/200\n",
            "1374/1374 [==============================] - 9s 7ms/step - loss: 0.0231 - categorical_accuracy: 0.8775 - val_loss: 0.1058 - val_categorical_accuracy: 0.5484\n",
            "Epoch 72/200\n",
            "1374/1374 [==============================] - 9s 7ms/step - loss: 0.0229 - categorical_accuracy: 0.8790 - val_loss: 0.1058 - val_categorical_accuracy: 0.5484\n",
            "Epoch 73/200\n",
            "1374/1374 [==============================] - 9s 7ms/step - loss: 0.0231 - categorical_accuracy: 0.8763 - val_loss: 0.1058 - val_categorical_accuracy: 0.5484\n",
            "Epoch 74/200\n",
            "1374/1374 [==============================] - 9s 7ms/step - loss: 0.0231 - categorical_accuracy: 0.8790 - val_loss: 0.1058 - val_categorical_accuracy: 0.5484\n",
            "Epoch 75/200\n",
            "1374/1374 [==============================] - 9s 7ms/step - loss: 0.0234 - categorical_accuracy: 0.8773 - val_loss: 0.1058 - val_categorical_accuracy: 0.5484\n",
            "Epoch 76/200\n",
            "1374/1374 [==============================] - 9s 7ms/step - loss: 0.0234 - categorical_accuracy: 0.8745 - val_loss: 0.1058 - val_categorical_accuracy: 0.5484\n",
            "Epoch 77/200\n",
            "1374/1374 [==============================] - 9s 7ms/step - loss: 0.0229 - categorical_accuracy: 0.8761 - val_loss: 0.1058 - val_categorical_accuracy: 0.5484\n",
            "Epoch 78/200\n",
            "1374/1374 [==============================] - 9s 7ms/step - loss: 0.0230 - categorical_accuracy: 0.8762 - val_loss: 0.1058 - val_categorical_accuracy: 0.5484\n"
          ],
          "name": "stdout"
        }
      ]
    },
    {
      "cell_type": "code",
      "metadata": {
        "colab": {
          "base_uri": "https://localhost:8080/",
          "height": 573
        },
        "id": "RyRuhCEwnQDv",
        "outputId": "d164f0fc-7187-4e9a-8a4a-526b765e40a7"
      },
      "source": [
        "import matplotlib.pyplot as plt\n",
        "# summarize history for accuracy\n",
        "plt.plot(history.history['categorical_accuracy'])\n",
        "plt.plot(history.history['val_categorical_accuracy'])\n",
        "plt.title('model accuracy')\n",
        "plt.ylabel('categorical_accuracy')\n",
        "plt.xlabel('epoch')\n",
        "plt.legend(['train', 'dev'], loc='upper left')\n",
        "plt.show()\n",
        "# summarize history for loss\n",
        "plt.plot(history.history['loss'])\n",
        "plt.plot(history.history['val_loss'])\n",
        "plt.title('model loss')\n",
        "plt.ylabel('loss')\n",
        "plt.xlabel('epoch')\n",
        "plt.legend(['train', 'dev'], loc='upper left')\n",
        "plt.show()"
      ],
      "execution_count": null,
      "outputs": [
        {
          "output_type": "display_data",
          "data": {
            "image/png": "[encoded data removed]",
            "text/plain": [
              "<Figure size 432x288 with 1 Axes>"
            ]
          },
          "metadata": {
            "tags": []
          }
        },
        {
          "output_type": "display_data",
          "data": {
            "image/png": "[encoded data removed]",
            "text/plain": [
              "<Figure size 432x288 with 1 Axes>"
            ]
          },
          "metadata": {
            "tags": []
          }
        }
      ]
    },
    {
      "cell_type": "code",
      "metadata": {
        "id": "QeZjLebZnHaG"
      },
      "source": [
        "# from keras.models import Sequential\n",
        "# from keras.layers import Dense, Embedding, LSTM, SpatialDropout1D\n",
        "\n",
        "# model = Sequential()\n",
        "# model.add(Embedding(MAX_NB_WORDS, EMBEDDING_DIM, input_length=X.shape[1]))\n",
        "# model.add(SpatialDropout1D(0.2))\n",
        "# model.add(LSTM(100, dropout=0.2, recurrent_dropout=0.2))\n",
        "# model.add(Dense(13, activation='sigmoid'))\n",
        "# model.compile(loss='binary_crossentropy', optimizer='adam', metrics=['accuracy'])\n",
        "\n",
        "# epochs = 5\n",
        "# batch_size = 64\n",
        "\n",
        "# history = model.fit(X_train, Y_train, epochs=epochs, batch_size=batch_size,validation_split=0.1,callbacks=[EarlyStopping(monitor='val_loss', patience=3, min_delta=0.0001)])"
      ],
      "execution_count": null,
      "outputs": []
    },
    {
      "cell_type": "code",
      "metadata": {
        "id": "clQGhJ1hgQ2F"
      },
      "source": [
        "best_grid = grid_search.best_estimator_\n",
        "grid_accuracy = evaluate(best_grid, test_features, test_labels)"
      ],
      "execution_count": null,
      "outputs": []
    },
    {
      "cell_type": "code",
      "metadata": {
        "colab": {
          "base_uri": "https://localhost:8080/",
          "height": 407
        },
        "id": "RKzUWqmX5oVy",
        "outputId": "94185d65-bbb1-4326-bfba-9f281fbf8fc8"
      },
      "source": [
        "from sklearn.metrics import precision_recall_fscore_support\n",
        "\n",
        "def Calculate_metric(y_test, y_pred):\n",
        "    y_test[y_test > .3] = 1\n",
        "    y_test[y_test <= .3] = 0\n",
        "\n",
        "    results = {}\n",
        "    results[\"macro_precision\"], results[\"macro_recall\"], results[\"macro_f1\"], _ = precision_recall_fscore_support(\n",
        "        y_test, y_pred, average='macro')\n",
        "    results[\"micro_precision\"], results[\"micro_recall\"], results[\"micro_f1\"], _ = precision_recall_fscore_support(\n",
        "        y_test, y_pred, average='micro')\n",
        "    results[\"weighted_precision\"], results[\"weighted_recall\"], results[\n",
        "        \"weighted_f1\"], _ = precision_recall_fscore_support(y_test, y_pred, average='weighted')\n",
        "\n",
        "    #       num_emotions = len(emotions)\n",
        "\n",
        "    #   idx2emotion = {i: e for i, e in enumerate(emotions)}\n",
        "\n",
        "    #   preds_mat = np.zeros((len(preds), num_emotions))\n",
        "    #   true_mat = np.zeros((len(preds), num_emotions))\n",
        "    #   for i in range(len(preds)):\n",
        "    #     true_labels = [int(idx) for idx in true.loc[i, \"labels\"].split(\",\")]\n",
        "    #     for j in range(num_emotions):\n",
        "    #       preds_mat[i, j] = preds.loc[i, idx2emotion[j]]\n",
        "    #       true_mat[i, j] = 1 if j in true_labels else 0\n",
        "\n",
        "    #   threshold = 0.3 # FLAGS.threshold\n",
        "    #   pred_ind = preds_mat.copy()\n",
        "    #   pred_ind[pred_ind > threshold] = 1\n",
        "    #   pred_ind[pred_ind <= threshold] = 0\n",
        "    #   results = {}\n",
        "    #   results[\"accuracy\"] = accuracy_score(true_mat, pred_ind)\n",
        "    #   results[\"macro_precision\"], results[\"macro_recall\"], results[\n",
        "    #       \"macro_f1\"], _ = precision_recall_fscore_support(\n",
        "    #           true_mat, pred_ind, average=\"macro\")\n",
        "    #   results[\"micro_precision\"], results[\"micro_recall\"], results[\n",
        "    #       \"micro_f1\"], _ = precision_recall_fscore_support(\n",
        "    #           true_mat, pred_ind, average=\"micro\")\n",
        "    #   results[\"weighted_precision\"], results[\"weighted_recall\"], results[\n",
        "    #       \"weighted_f1\"], _ = precision_recall_fscore_support(\n",
        "    #           true_mat, pred_ind, average=\"weighted\")\n",
        "    #   for i in range(num_emotions):\n",
        "    #     emotion = idx2emotion[i]\n",
        "    #     emotion_true = true_mat[:, i]\n",
        "    #     emotion_pred = pred_ind[:, i]\n",
        "    #     results[emotion + \"_accuracy\"] = accuracy_score(emotion_true, emotion_pred)\n",
        "    #     results[emotion + \"_precision\"], results[emotion + \"_recall\"], results[\n",
        "    #         emotion + \"_f1\"], _ = precision_recall_fscore_support(\n",
        "    #             emotion_true, emotion_pred, average=\"binary\")\n",
        "    return results\n",
        "\n",
        "\n",
        "\n",
        "\n",
        "\n",
        "\n",
        "\n",
        "temp = Calculate_metric(y_test1, y_pred)\n",
        "print(temp)\n",
        "\n",
        "\n",
        "\n",
        "\n",
        "\n"
      ],
      "execution_count": null,
      "outputs": [
        {
          "output_type": "error",
          "ename": "NameError",
          "evalue": "ignored",
          "traceback": [
            "\u001b[0;31m---------------------------------------------------------------------------\u001b[0m",
            "\u001b[0;31mNameError\u001b[0m                                 Traceback (most recent call last)",
            "\u001b[0;32m<ipython-input-18-e04afdea4215>\u001b[0m in \u001b[0;36m<module>\u001b[0;34m()\u001b[0m\n\u001b[1;32m     57\u001b[0m \u001b[0mmet_results\u001b[0m \u001b[0;34m=\u001b[0m \u001b[0;34m[\u001b[0m\u001b[0;34m]\u001b[0m\u001b[0;34m\u001b[0m\u001b[0;34m\u001b[0m\u001b[0m\n\u001b[1;32m     58\u001b[0m \u001b[0;32mfor\u001b[0m \u001b[0mmet\u001b[0m \u001b[0;32min\u001b[0m \u001b[0my_pred\u001b[0m\u001b[0;34m:\u001b[0m\u001b[0;34m\u001b[0m\u001b[0;34m\u001b[0m\u001b[0m\n\u001b[0;32m---> 59\u001b[0;31m     \u001b[0mtemp\u001b[0m \u001b[0;34m=\u001b[0m \u001b[0mCalculate_metric\u001b[0m\u001b[0;34m(\u001b[0m\u001b[0my_test\u001b[0m\u001b[0;34m,\u001b[0m \u001b[0mmet\u001b[0m\u001b[0;34m)\u001b[0m\u001b[0;34m\u001b[0m\u001b[0;34m\u001b[0m\u001b[0m\n\u001b[0m\u001b[1;32m     60\u001b[0m     \u001b[0mmet_results\u001b[0m\u001b[0;34m.\u001b[0m\u001b[0mappend\u001b[0m\u001b[0;34m(\u001b[0m\u001b[0mtemp\u001b[0m\u001b[0;34m)\u001b[0m\u001b[0;34m\u001b[0m\u001b[0;34m\u001b[0m\u001b[0m\n\u001b[1;32m     61\u001b[0m     \u001b[0mprint\u001b[0m\u001b[0;34m(\u001b[0m\u001b[0mtemp\u001b[0m\u001b[0;34m)\u001b[0m\u001b[0;34m\u001b[0m\u001b[0;34m\u001b[0m\u001b[0m\n",
            "\u001b[0;32m<ipython-input-18-e04afdea4215>\u001b[0m in \u001b[0;36mCalculate_metric\u001b[0;34m(y_test, y_pred)\u001b[0m\n\u001b[1;32m      6\u001b[0m \u001b[0;34m\u001b[0m\u001b[0m\n\u001b[1;32m      7\u001b[0m     \u001b[0mresults\u001b[0m \u001b[0;34m=\u001b[0m \u001b[0;34m{\u001b[0m\u001b[0;34m}\u001b[0m\u001b[0;34m\u001b[0m\u001b[0;34m\u001b[0m\u001b[0m\n\u001b[0;32m----> 8\u001b[0;31m     results[\"macro_precision\"], results[\"macro_recall\"], results[\"macro_f1\"], _ = precision_recall_fscore_support(\n\u001b[0m\u001b[1;32m      9\u001b[0m         y_test, y_pred, average='macro')\n\u001b[1;32m     10\u001b[0m     results[\"micro_precision\"], results[\"micro_recall\"], results[\"micro_f1\"], _ = precision_recall_fscore_support(\n",
            "\u001b[0;31mNameError\u001b[0m: name 'precision_recall_fscore_support' is not defined"
          ]
        }
      ]
    },
    {
      "cell_type": "code",
      "metadata": {
        "colab": {
          "base_uri": "https://localhost:8080/",
          "height": 904
        },
        "id": "NLs9ZKIDs4sg",
        "outputId": "c91b3f88-bb19-4c82-960b-d003d8983b51"
      },
      "source": [
        "\n",
        "X_train_cnn = X_train.reshape(X_train.shape[0], X_train.shape[1], 1)\n",
        "y_train_cnn = y_train.reshape(y_train.shape[0], y_train.shape[1])\n",
        "\n",
        "X_test_cnn = X_test.reshape(X_test.shape[0], X_test.shape[1], 1)\n",
        "y_test_cnn = y_test.reshape(y_test.shape[0], y_test.shape[1], 1)\n",
        "y_pred = model.predict(X_test_cnn)\n",
        "\n",
        "y_pred[y_pred > .3] = 1\n",
        "y_pred[y_pred <= .3] = 0\n",
        "print(y_pred)\n",
        "print(y_test)\n",
        "results = Calculate_metric(y_test, y_pred)\n",
        "print(results)"
      ],
      "execution_count": null,
      "outputs": [
        {
          "output_type": "error",
          "ename": "ValueError",
          "evalue": "ignored",
          "traceback": [
            "\u001b[0;31m---------------------------------------------------------------------------\u001b[0m",
            "\u001b[0;31mValueError\u001b[0m                                Traceback (most recent call last)",
            "\u001b[0;32m<ipython-input-19-916380ffab35>\u001b[0m in \u001b[0;36m<module>\u001b[0;34m()\u001b[0m\n\u001b[1;32m      1\u001b[0m \u001b[0;34m\u001b[0m\u001b[0m\n\u001b[0;32m----> 2\u001b[0;31m \u001b[0my_pred\u001b[0m \u001b[0;34m=\u001b[0m \u001b[0mmodel\u001b[0m\u001b[0;34m.\u001b[0m\u001b[0mpredict\u001b[0m\u001b[0;34m(\u001b[0m\u001b[0mX_test\u001b[0m\u001b[0;34m)\u001b[0m\u001b[0;34m\u001b[0m\u001b[0;34m\u001b[0m\u001b[0m\n\u001b[0m\u001b[1;32m      3\u001b[0m \u001b[0;34m\u001b[0m\u001b[0m\n\u001b[1;32m      4\u001b[0m \u001b[0my_pred\u001b[0m\u001b[0;34m[\u001b[0m\u001b[0my_pred\u001b[0m \u001b[0;34m>\u001b[0m \u001b[0;36m.3\u001b[0m\u001b[0;34m]\u001b[0m \u001b[0;34m=\u001b[0m \u001b[0;36m1\u001b[0m\u001b[0;34m\u001b[0m\u001b[0;34m\u001b[0m\u001b[0m\n\u001b[1;32m      5\u001b[0m \u001b[0my_pred\u001b[0m\u001b[0;34m[\u001b[0m\u001b[0my_pred\u001b[0m \u001b[0;34m<=\u001b[0m \u001b[0;36m.3\u001b[0m\u001b[0;34m]\u001b[0m \u001b[0;34m=\u001b[0m \u001b[0;36m0\u001b[0m\u001b[0;34m\u001b[0m\u001b[0;34m\u001b[0m\u001b[0m\n",
            "\u001b[0;32m/usr/local/lib/python3.7/dist-packages/tensorflow/python/keras/engine/training.py\u001b[0m in \u001b[0;36mpredict\u001b[0;34m(self, x, batch_size, verbose, steps, callbacks, max_queue_size, workers, use_multiprocessing)\u001b[0m\n\u001b[1;32m   1627\u001b[0m           \u001b[0;32mfor\u001b[0m \u001b[0mstep\u001b[0m \u001b[0;32min\u001b[0m \u001b[0mdata_handler\u001b[0m\u001b[0;34m.\u001b[0m\u001b[0msteps\u001b[0m\u001b[0;34m(\u001b[0m\u001b[0;34m)\u001b[0m\u001b[0;34m:\u001b[0m\u001b[0;34m\u001b[0m\u001b[0;34m\u001b[0m\u001b[0m\n\u001b[1;32m   1628\u001b[0m             \u001b[0mcallbacks\u001b[0m\u001b[0;34m.\u001b[0m\u001b[0mon_predict_batch_begin\u001b[0m\u001b[0;34m(\u001b[0m\u001b[0mstep\u001b[0m\u001b[0;34m)\u001b[0m\u001b[0;34m\u001b[0m\u001b[0;34m\u001b[0m\u001b[0m\n\u001b[0;32m-> 1629\u001b[0;31m             \u001b[0mtmp_batch_outputs\u001b[0m \u001b[0;34m=\u001b[0m \u001b[0mself\u001b[0m\u001b[0;34m.\u001b[0m\u001b[0mpredict_function\u001b[0m\u001b[0;34m(\u001b[0m\u001b[0miterator\u001b[0m\u001b[0;34m)\u001b[0m\u001b[0;34m\u001b[0m\u001b[0;34m\u001b[0m\u001b[0m\n\u001b[0m\u001b[1;32m   1630\u001b[0m             \u001b[0;32mif\u001b[0m \u001b[0mdata_handler\u001b[0m\u001b[0;34m.\u001b[0m\u001b[0mshould_sync\u001b[0m\u001b[0;34m:\u001b[0m\u001b[0;34m\u001b[0m\u001b[0;34m\u001b[0m\u001b[0m\n\u001b[1;32m   1631\u001b[0m               \u001b[0mcontext\u001b[0m\u001b[0;34m.\u001b[0m\u001b[0masync_wait\u001b[0m\u001b[0;34m(\u001b[0m\u001b[0;34m)\u001b[0m\u001b[0;34m\u001b[0m\u001b[0;34m\u001b[0m\u001b[0m\n",
            "\u001b[0;32m/usr/local/lib/python3.7/dist-packages/tensorflow/python/eager/def_function.py\u001b[0m in \u001b[0;36m__call__\u001b[0;34m(self, *args, **kwds)\u001b[0m\n\u001b[1;32m    826\u001b[0m     \u001b[0mtracing_count\u001b[0m \u001b[0;34m=\u001b[0m \u001b[0mself\u001b[0m\u001b[0;34m.\u001b[0m\u001b[0mexperimental_get_tracing_count\u001b[0m\u001b[0;34m(\u001b[0m\u001b[0;34m)\u001b[0m\u001b[0;34m\u001b[0m\u001b[0;34m\u001b[0m\u001b[0m\n\u001b[1;32m    827\u001b[0m     \u001b[0;32mwith\u001b[0m \u001b[0mtrace\u001b[0m\u001b[0;34m.\u001b[0m\u001b[0mTrace\u001b[0m\u001b[0;34m(\u001b[0m\u001b[0mself\u001b[0m\u001b[0;34m.\u001b[0m\u001b[0m_name\u001b[0m\u001b[0;34m)\u001b[0m \u001b[0;32mas\u001b[0m \u001b[0mtm\u001b[0m\u001b[0;34m:\u001b[0m\u001b[0;34m\u001b[0m\u001b[0;34m\u001b[0m\u001b[0m\n\u001b[0;32m--> 828\u001b[0;31m       \u001b[0mresult\u001b[0m \u001b[0;34m=\u001b[0m \u001b[0mself\u001b[0m\u001b[0;34m.\u001b[0m\u001b[0m_call\u001b[0m\u001b[0;34m(\u001b[0m\u001b[0;34m*\u001b[0m\u001b[0margs\u001b[0m\u001b[0;34m,\u001b[0m \u001b[0;34m**\u001b[0m\u001b[0mkwds\u001b[0m\u001b[0;34m)\u001b[0m\u001b[0;34m\u001b[0m\u001b[0;34m\u001b[0m\u001b[0m\n\u001b[0m\u001b[1;32m    829\u001b[0m       \u001b[0mcompiler\u001b[0m \u001b[0;34m=\u001b[0m \u001b[0;34m\"xla\"\u001b[0m \u001b[0;32mif\u001b[0m \u001b[0mself\u001b[0m\u001b[0;34m.\u001b[0m\u001b[0m_experimental_compile\u001b[0m \u001b[0;32melse\u001b[0m \u001b[0;34m\"nonXla\"\u001b[0m\u001b[0;34m\u001b[0m\u001b[0;34m\u001b[0m\u001b[0m\n\u001b[1;32m    830\u001b[0m       \u001b[0mnew_tracing_count\u001b[0m \u001b[0;34m=\u001b[0m \u001b[0mself\u001b[0m\u001b[0;34m.\u001b[0m\u001b[0mexperimental_get_tracing_count\u001b[0m\u001b[0;34m(\u001b[0m\u001b[0;34m)\u001b[0m\u001b[0;34m\u001b[0m\u001b[0;34m\u001b[0m\u001b[0m\n",
            "\u001b[0;32m/usr/local/lib/python3.7/dist-packages/tensorflow/python/eager/def_function.py\u001b[0m in \u001b[0;36m_call\u001b[0;34m(self, *args, **kwds)\u001b[0m\n\u001b[1;32m    860\u001b[0m       \u001b[0;31m# In this case we have not created variables on the first call. So we can\u001b[0m\u001b[0;34m\u001b[0m\u001b[0;34m\u001b[0m\u001b[0;34m\u001b[0m\u001b[0m\n\u001b[1;32m    861\u001b[0m       \u001b[0;31m# run the first trace but we should fail if variables are created.\u001b[0m\u001b[0;34m\u001b[0m\u001b[0;34m\u001b[0m\u001b[0;34m\u001b[0m\u001b[0m\n\u001b[0;32m--> 862\u001b[0;31m       \u001b[0mresults\u001b[0m \u001b[0;34m=\u001b[0m \u001b[0mself\u001b[0m\u001b[0;34m.\u001b[0m\u001b[0m_stateful_fn\u001b[0m\u001b[0;34m(\u001b[0m\u001b[0;34m*\u001b[0m\u001b[0margs\u001b[0m\u001b[0;34m,\u001b[0m \u001b[0;34m**\u001b[0m\u001b[0mkwds\u001b[0m\u001b[0;34m)\u001b[0m\u001b[0;34m\u001b[0m\u001b[0;34m\u001b[0m\u001b[0m\n\u001b[0m\u001b[1;32m    863\u001b[0m       \u001b[0;32mif\u001b[0m \u001b[0mself\u001b[0m\u001b[0;34m.\u001b[0m\u001b[0m_created_variables\u001b[0m\u001b[0;34m:\u001b[0m\u001b[0;34m\u001b[0m\u001b[0;34m\u001b[0m\u001b[0m\n\u001b[1;32m    864\u001b[0m         raise ValueError(\"Creating variables on a non-first call to a function\"\n",
            "\u001b[0;32m/usr/local/lib/python3.7/dist-packages/tensorflow/python/eager/function.py\u001b[0m in \u001b[0;36m__call__\u001b[0;34m(self, *args, **kwargs)\u001b[0m\n\u001b[1;32m   2939\u001b[0m     \u001b[0;32mwith\u001b[0m \u001b[0mself\u001b[0m\u001b[0;34m.\u001b[0m\u001b[0m_lock\u001b[0m\u001b[0;34m:\u001b[0m\u001b[0;34m\u001b[0m\u001b[0;34m\u001b[0m\u001b[0m\n\u001b[1;32m   2940\u001b[0m       (graph_function,\n\u001b[0;32m-> 2941\u001b[0;31m        filtered_flat_args) = self._maybe_define_function(args, kwargs)\n\u001b[0m\u001b[1;32m   2942\u001b[0m     return graph_function._call_flat(\n\u001b[1;32m   2943\u001b[0m         filtered_flat_args, captured_inputs=graph_function.captured_inputs)  # pylint: disable=protected-access\n",
            "\u001b[0;32m/usr/local/lib/python3.7/dist-packages/tensorflow/python/eager/function.py\u001b[0m in \u001b[0;36m_maybe_define_function\u001b[0;34m(self, args, kwargs)\u001b[0m\n\u001b[1;32m   3356\u001b[0m               call_context_key in self._function_cache.missed):\n\u001b[1;32m   3357\u001b[0m             return self._define_function_with_shape_relaxation(\n\u001b[0;32m-> 3358\u001b[0;31m                 args, kwargs, flat_args, filtered_flat_args, cache_key_context)\n\u001b[0m\u001b[1;32m   3359\u001b[0m \u001b[0;34m\u001b[0m\u001b[0m\n\u001b[1;32m   3360\u001b[0m           \u001b[0mself\u001b[0m\u001b[0;34m.\u001b[0m\u001b[0m_function_cache\u001b[0m\u001b[0;34m.\u001b[0m\u001b[0mmissed\u001b[0m\u001b[0;34m.\u001b[0m\u001b[0madd\u001b[0m\u001b[0;34m(\u001b[0m\u001b[0mcall_context_key\u001b[0m\u001b[0;34m)\u001b[0m\u001b[0;34m\u001b[0m\u001b[0;34m\u001b[0m\u001b[0m\n",
            "\u001b[0;32m/usr/local/lib/python3.7/dist-packages/tensorflow/python/eager/function.py\u001b[0m in \u001b[0;36m_define_function_with_shape_relaxation\u001b[0;34m(self, args, kwargs, flat_args, filtered_flat_args, cache_key_context)\u001b[0m\n\u001b[1;32m   3278\u001b[0m \u001b[0;34m\u001b[0m\u001b[0m\n\u001b[1;32m   3279\u001b[0m     graph_function = self._create_graph_function(\n\u001b[0;32m-> 3280\u001b[0;31m         args, kwargs, override_flat_arg_shapes=relaxed_arg_shapes)\n\u001b[0m\u001b[1;32m   3281\u001b[0m     \u001b[0mself\u001b[0m\u001b[0;34m.\u001b[0m\u001b[0m_function_cache\u001b[0m\u001b[0;34m.\u001b[0m\u001b[0marg_relaxed\u001b[0m\u001b[0;34m[\u001b[0m\u001b[0mrank_only_cache_key\u001b[0m\u001b[0;34m]\u001b[0m \u001b[0;34m=\u001b[0m \u001b[0mgraph_function\u001b[0m\u001b[0;34m\u001b[0m\u001b[0;34m\u001b[0m\u001b[0m\n\u001b[1;32m   3282\u001b[0m \u001b[0;34m\u001b[0m\u001b[0m\n",
            "\u001b[0;32m/usr/local/lib/python3.7/dist-packages/tensorflow/python/eager/function.py\u001b[0m in \u001b[0;36m_create_graph_function\u001b[0;34m(self, args, kwargs, override_flat_arg_shapes)\u001b[0m\n\u001b[1;32m   3204\u001b[0m             \u001b[0marg_names\u001b[0m\u001b[0;34m=\u001b[0m\u001b[0marg_names\u001b[0m\u001b[0;34m,\u001b[0m\u001b[0;34m\u001b[0m\u001b[0;34m\u001b[0m\u001b[0m\n\u001b[1;32m   3205\u001b[0m             \u001b[0moverride_flat_arg_shapes\u001b[0m\u001b[0;34m=\u001b[0m\u001b[0moverride_flat_arg_shapes\u001b[0m\u001b[0;34m,\u001b[0m\u001b[0;34m\u001b[0m\u001b[0;34m\u001b[0m\u001b[0m\n\u001b[0;32m-> 3206\u001b[0;31m             capture_by_value=self._capture_by_value),\n\u001b[0m\u001b[1;32m   3207\u001b[0m         \u001b[0mself\u001b[0m\u001b[0;34m.\u001b[0m\u001b[0m_function_attributes\u001b[0m\u001b[0;34m,\u001b[0m\u001b[0;34m\u001b[0m\u001b[0;34m\u001b[0m\u001b[0m\n\u001b[1;32m   3208\u001b[0m         \u001b[0mfunction_spec\u001b[0m\u001b[0;34m=\u001b[0m\u001b[0mself\u001b[0m\u001b[0;34m.\u001b[0m\u001b[0mfunction_spec\u001b[0m\u001b[0;34m,\u001b[0m\u001b[0;34m\u001b[0m\u001b[0;34m\u001b[0m\u001b[0m\n",
            "\u001b[0;32m/usr/local/lib/python3.7/dist-packages/tensorflow/python/framework/func_graph.py\u001b[0m in \u001b[0;36mfunc_graph_from_py_func\u001b[0;34m(name, python_func, args, kwargs, signature, func_graph, autograph, autograph_options, add_control_dependencies, arg_names, op_return_value, collections, capture_by_value, override_flat_arg_shapes)\u001b[0m\n\u001b[1;32m    988\u001b[0m         \u001b[0m_\u001b[0m\u001b[0;34m,\u001b[0m \u001b[0moriginal_func\u001b[0m \u001b[0;34m=\u001b[0m \u001b[0mtf_decorator\u001b[0m\u001b[0;34m.\u001b[0m\u001b[0munwrap\u001b[0m\u001b[0;34m(\u001b[0m\u001b[0mpython_func\u001b[0m\u001b[0;34m)\u001b[0m\u001b[0;34m\u001b[0m\u001b[0;34m\u001b[0m\u001b[0m\n\u001b[1;32m    989\u001b[0m \u001b[0;34m\u001b[0m\u001b[0m\n\u001b[0;32m--> 990\u001b[0;31m       \u001b[0mfunc_outputs\u001b[0m \u001b[0;34m=\u001b[0m \u001b[0mpython_func\u001b[0m\u001b[0;34m(\u001b[0m\u001b[0;34m*\u001b[0m\u001b[0mfunc_args\u001b[0m\u001b[0;34m,\u001b[0m \u001b[0;34m**\u001b[0m\u001b[0mfunc_kwargs\u001b[0m\u001b[0;34m)\u001b[0m\u001b[0;34m\u001b[0m\u001b[0;34m\u001b[0m\u001b[0m\n\u001b[0m\u001b[1;32m    991\u001b[0m \u001b[0;34m\u001b[0m\u001b[0m\n\u001b[1;32m    992\u001b[0m       \u001b[0;31m# invariant: `func_outputs` contains only Tensors, CompositeTensors,\u001b[0m\u001b[0;34m\u001b[0m\u001b[0;34m\u001b[0m\u001b[0;34m\u001b[0m\u001b[0m\n",
            "\u001b[0;32m/usr/local/lib/python3.7/dist-packages/tensorflow/python/eager/def_function.py\u001b[0m in \u001b[0;36mwrapped_fn\u001b[0;34m(*args, **kwds)\u001b[0m\n\u001b[1;32m    632\u001b[0m             \u001b[0mxla_context\u001b[0m\u001b[0;34m.\u001b[0m\u001b[0mExit\u001b[0m\u001b[0;34m(\u001b[0m\u001b[0;34m)\u001b[0m\u001b[0;34m\u001b[0m\u001b[0;34m\u001b[0m\u001b[0m\n\u001b[1;32m    633\u001b[0m         \u001b[0;32melse\u001b[0m\u001b[0;34m:\u001b[0m\u001b[0;34m\u001b[0m\u001b[0;34m\u001b[0m\u001b[0m\n\u001b[0;32m--> 634\u001b[0;31m           \u001b[0mout\u001b[0m \u001b[0;34m=\u001b[0m \u001b[0mweak_wrapped_fn\u001b[0m\u001b[0;34m(\u001b[0m\u001b[0;34m)\u001b[0m\u001b[0;34m.\u001b[0m\u001b[0m__wrapped__\u001b[0m\u001b[0;34m(\u001b[0m\u001b[0;34m*\u001b[0m\u001b[0margs\u001b[0m\u001b[0;34m,\u001b[0m \u001b[0;34m**\u001b[0m\u001b[0mkwds\u001b[0m\u001b[0;34m)\u001b[0m\u001b[0;34m\u001b[0m\u001b[0;34m\u001b[0m\u001b[0m\n\u001b[0m\u001b[1;32m    635\u001b[0m         \u001b[0;32mreturn\u001b[0m \u001b[0mout\u001b[0m\u001b[0;34m\u001b[0m\u001b[0;34m\u001b[0m\u001b[0m\n\u001b[1;32m    636\u001b[0m \u001b[0;34m\u001b[0m\u001b[0m\n",
            "\u001b[0;32m/usr/local/lib/python3.7/dist-packages/tensorflow/python/framework/func_graph.py\u001b[0m in \u001b[0;36mwrapper\u001b[0;34m(*args, **kwargs)\u001b[0m\n\u001b[1;32m    975\u001b[0m           \u001b[0;32mexcept\u001b[0m \u001b[0mException\u001b[0m \u001b[0;32mas\u001b[0m \u001b[0me\u001b[0m\u001b[0;34m:\u001b[0m  \u001b[0;31m# pylint:disable=broad-except\u001b[0m\u001b[0;34m\u001b[0m\u001b[0;34m\u001b[0m\u001b[0m\n\u001b[1;32m    976\u001b[0m             \u001b[0;32mif\u001b[0m \u001b[0mhasattr\u001b[0m\u001b[0;34m(\u001b[0m\u001b[0me\u001b[0m\u001b[0;34m,\u001b[0m \u001b[0;34m\"ag_error_metadata\"\u001b[0m\u001b[0;34m)\u001b[0m\u001b[0;34m:\u001b[0m\u001b[0;34m\u001b[0m\u001b[0;34m\u001b[0m\u001b[0m\n\u001b[0;32m--> 977\u001b[0;31m               \u001b[0;32mraise\u001b[0m \u001b[0me\u001b[0m\u001b[0;34m.\u001b[0m\u001b[0mag_error_metadata\u001b[0m\u001b[0;34m.\u001b[0m\u001b[0mto_exception\u001b[0m\u001b[0;34m(\u001b[0m\u001b[0me\u001b[0m\u001b[0;34m)\u001b[0m\u001b[0;34m\u001b[0m\u001b[0;34m\u001b[0m\u001b[0m\n\u001b[0m\u001b[1;32m    978\u001b[0m             \u001b[0;32melse\u001b[0m\u001b[0;34m:\u001b[0m\u001b[0;34m\u001b[0m\u001b[0;34m\u001b[0m\u001b[0m\n\u001b[1;32m    979\u001b[0m               \u001b[0;32mraise\u001b[0m\u001b[0;34m\u001b[0m\u001b[0;34m\u001b[0m\u001b[0m\n",
            "\u001b[0;31mValueError\u001b[0m: in user code:\n\n    /usr/local/lib/python3.7/dist-packages/tensorflow/python/keras/engine/training.py:1478 predict_function  *\n        return step_function(self, iterator)\n    /usr/local/lib/python3.7/dist-packages/tensorflow/python/keras/engine/training.py:1468 step_function  **\n        outputs = model.distribute_strategy.run(run_step, args=(data,))\n    /usr/local/lib/python3.7/dist-packages/tensorflow/python/distribute/distribute_lib.py:1259 run\n        return self._extended.call_for_each_replica(fn, args=args, kwargs=kwargs)\n    /usr/local/lib/python3.7/dist-packages/tensorflow/python/distribute/distribute_lib.py:2730 call_for_each_replica\n        return self._call_for_each_replica(fn, args, kwargs)\n    /usr/local/lib/python3.7/dist-packages/tensorflow/python/distribute/distribute_lib.py:3417 _call_for_each_replica\n        return fn(*args, **kwargs)\n    /usr/local/lib/python3.7/dist-packages/tensorflow/python/keras/engine/training.py:1461 run_step  **\n        outputs = model.predict_step(data)\n    /usr/local/lib/python3.7/dist-packages/tensorflow/python/keras/engine/training.py:1434 predict_step\n        return self(x, training=False)\n    /usr/local/lib/python3.7/dist-packages/tensorflow/python/keras/engine/base_layer.py:998 __call__\n        input_spec.assert_input_compatibility(self.input_spec, inputs, self.name)\n    /usr/local/lib/python3.7/dist-packages/tensorflow/python/keras/engine/input_spec.py:239 assert_input_compatibility\n        str(tuple(shape)))\n\n    ValueError: Input 0 of layer sequential_5 is incompatible with the layer: : expected min_ndim=3, found ndim=2. Full shape received: (None, 1068)\n"
          ]
        }
      ]
    },
    {
      "cell_type": "code",
      "metadata": {
        "id": "YsuR4aDCnzNM"
      },
      "source": [
        ""
      ],
      "execution_count": null,
      "outputs": []
    },
    {
      "cell_type": "code",
      "metadata": {
        "id": "ZzaABFaF_zax"
      },
      "source": [
        ""
      ],
      "execution_count": null,
      "outputs": []
    },
    {
      "cell_type": "code",
      "metadata": {
        "id": "xW-n8K41s3zu"
      },
      "source": [
        "def fabeec_embedding(data):\n",
        "  fasttext_embedding = fasttext_embedding(data)\n",
        "  bert_embedding = bert_embedding(data)\n",
        "  data['embedding'] = fasttext_embedding + bert_embedding\n",
        "  return data"
      ],
      "execution_count": null,
      "outputs": []
    },
    {
      "cell_type": "markdown",
      "metadata": {
        "id": "C-oIG_vQUE6j"
      },
      "source": [
        "## Tokenization"
      ]
    },
    {
      "cell_type": "code",
      "metadata": {
        "id": "1A5NWnYpI88d"
      },
      "source": [
        "df[\"token_size\"] = df[\"text\"].apply(lambda x: len(x.split(' ')))"
      ],
      "execution_count": null,
      "outputs": []
    },
    {
      "cell_type": "code",
      "metadata": {
        "id": "TzrK9ha6JIld"
      },
      "source": [
        "\n",
        "#sentences = ['This framework generates embeddings for each input sentence',\n",
        " #   'Sentences are passed as a list of string.', \n",
        " #   'The quick brown fox jumps over the lazy dog.']\n"
      ],
      "execution_count": null,
      "outputs": []
    },
    {
      "cell_type": "code",
      "metadata": {
        "id": "2pUFAu59YZDd"
      },
      "source": [
        "without_nutral = list(emotions.values())[:-1]\n",
        "without_nutral = list(emotions.values())"
      ],
      "execution_count": null,
      "outputs": []
    },
    {
      "cell_type": "code",
      "metadata": {
        "colab": {
          "background_save": true
        },
        "id": "HgjfWuxbYjJw",
        "outputId": "44836eef-2ddf-401d-ed0a-c04fbabd01d8"
      },
      "source": [
        "import matplotlib\n",
        "import matplotlib.pyplot as plt\n",
        "import numpy as np\n",
        "\n",
        "\n",
        "labels = emotionsInt\n",
        "men_means = hist_train\n",
        "women_means = hist_dev\n",
        "\n",
        "x = np.arange(len(labels))  # the label locations\n",
        "width = 0.5  # the width of the bars\n",
        "\n",
        "fig, ax = plt.subplots()\n",
        "fig.set_size_inches(15,10)\n",
        "rects1 = ax.bar(x , men_means, width, label='Train Set')\n",
        "# rects2 = ax.bar(x , women_means, width, label='Test Set', color='green')\n",
        "\n",
        "# Add some text for labels, title and custom x-axis tick labels, etc.\n",
        "ax.set_ylabel('Number of samples')\n",
        "ax.set_title('Frequecy of samples in each class (Test Set)')\n",
        "ax.set_xticks(range(len(emotions)))\n",
        "ax.set_xticklabels(emotions)\n",
        "ax.legend()\n",
        "for i , v in enumerate(hist_dev):\n",
        "  ax.text(i-.25,  v + 5, str(v), color='black', fontweight='bold')\n",
        "\n",
        "def autolabel(rects):\n",
        "    \"\"\"Attach a text label above each bar in *rects*, displaying its height.\"\"\"\n",
        "    for rect in rects:\n",
        "        height = rect.get_height()\n",
        "        ax.annotate('{}'.format(height),\n",
        "                    xy=(rect.get_x() + rect.get_width() / 2, height),\n",
        "                    xytext=(0, 3),  # 3 points vertical offset\n",
        "                    textcoords=\"offset points\",\n",
        "                    ha='center', va='bottom')\n",
        "\n",
        "plt.xticks(range(len(without_nutral)), without_nutral, rotation=90)\n",
        "# autolabel(rects1)\n",
        "# autolabel(rects2)\n",
        "\n",
        "fig.tight_layout()\n",
        "plt.show()"
      ],
      "execution_count": null,
      "outputs": [
        {
          "output_type": "error",
          "ename": "NameError",
          "evalue": "ignored",
          "traceback": [
            "\u001b[0;31m---------------------------------------------------------------------------\u001b[0m",
            "\u001b[0;31mNameError\u001b[0m                                 Traceback (most recent call last)",
            "\u001b[0;32m<ipython-input-1-3d4995dc33a1>\u001b[0m in \u001b[0;36m<module>\u001b[0;34m()\u001b[0m\n\u001b[1;32m      4\u001b[0m \u001b[0;34m\u001b[0m\u001b[0m\n\u001b[1;32m      5\u001b[0m \u001b[0;34m\u001b[0m\u001b[0m\n\u001b[0;32m----> 6\u001b[0;31m \u001b[0mlabels\u001b[0m \u001b[0;34m=\u001b[0m \u001b[0memotionsInt\u001b[0m\u001b[0;34m\u001b[0m\u001b[0;34m\u001b[0m\u001b[0m\n\u001b[0m\u001b[1;32m      7\u001b[0m \u001b[0mmen_means\u001b[0m \u001b[0;34m=\u001b[0m \u001b[0mhist_train\u001b[0m\u001b[0;34m\u001b[0m\u001b[0;34m\u001b[0m\u001b[0m\n\u001b[1;32m      8\u001b[0m \u001b[0mwomen_means\u001b[0m \u001b[0;34m=\u001b[0m \u001b[0mhist_dev\u001b[0m\u001b[0;34m\u001b[0m\u001b[0;34m\u001b[0m\u001b[0m\n",
            "\u001b[0;31mNameError\u001b[0m: name 'emotionsInt' is not defined"
          ]
        }
      ]
    },
    {
      "cell_type": "code",
      "metadata": {
        "id": "fpjhaEV3cf36"
      },
      "source": [
        "from keras.models import Sequential\n",
        "from keras.layers import Dense, Activation, Embedding, Flatten, MaxPooling1D, GlobalMaxPool1D, Dropout, Conv1D\n",
        "from keras.callbacks import ReduceLROnPlateau, EarlyStopping, ModelCheckpoint\n",
        "from keras.losses import binary_crossentropy\n",
        "from keras.optimizers import Adam\n",
        "from keras.utils import to_categorical\n",
        "from keras import models\n",
        "from keras.regularizers import l2 \n",
        "\n",
        "\n",
        "model = Sequential()\n",
        "model.add(Conv1D(filters=128, kernel_size=3, activation='relu', input_shape = (1068, 1)))\n",
        "\n",
        "model.add(Dropout(0.2))\n",
        "model.add(MaxPooling1D(pool_size=2))\n",
        "model.add(Conv1D(filters=64, kernel_size=3, activation='relu'))\n",
        "\n",
        "model.add(Dropout(0.2))\n",
        "model.add(MaxPooling1D(pool_size=2))\n",
        "model.add(Conv1D(filters=32, kernel_size=3, activation='relu'))\n",
        "\n",
        "model.add(Dropout(0.2))\n",
        "model.add(MaxPooling1D(pool_size=2))\n",
        "model.add(Flatten())\n",
        "model.add(Dense(100, activation='relu'))\n",
        "model.add(Dense(28, activation='sigmoid'))\n",
        "\n",
        "model.compile(loss='binary_crossentropy', optimizer='adam', metrics=['categorical_accuracy'])\n",
        "callbacks = [\n",
        "    ReduceLROnPlateau(),\n",
        "    EarlyStopping(patience=10),\n",
        "    ModelCheckpoint(filepath='model-conv1d.h5', save_best_only=True)\n",
        "]\n"
      ],
      "execution_count": null,
      "outputs": []
    },
    {
      "cell_type": "code",
      "metadata": {
        "colab": {
          "base_uri": "https://localhost:8080/",
          "height": 1000
        },
        "id": "b9EGmwLDYi6D",
        "outputId": "e1c7a4bc-6e28-4424-ef15-0c5cb0e6662f"
      },
      "source": [
        "from tensorflow.keras.utils import plot_model\n",
        "plot_model(model, to_file='model.png')"
      ],
      "execution_count": null,
      "outputs": [
        {
          "output_type": "execute_result",
          "data": {
            "image/png": "[encoded data removed]",
            "text/plain": [
              "<IPython.core.display.Image object>"
            ]
          },
          "metadata": {
            "tags": []
          },
          "execution_count": 2
        }
      ]
    }
  ]
}